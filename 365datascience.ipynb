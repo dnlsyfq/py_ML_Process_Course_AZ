{
 "cells": [
  {
   "cell_type": "code",
   "execution_count": 1,
   "metadata": {},
   "outputs": [],
   "source": [
    "import pandas as pd\n",
    "import numpy as np\n",
    "from scipy import stats\n",
    "import scipy.stats\n",
    "import matplotlib.pyplot as plt\n",
    "import seaborn as sns\n",
    "from sklearn.experimental import enable_iterative_imputer\n",
    "from sklearn.impute import IterativeImputer, KNNImputer"
   ]
  },
  {
   "cell_type": "markdown",
   "metadata": {},
   "source": [
    "# Missing Values"
   ]
  },
  {
   "cell_type": "code",
   "execution_count": 2,
   "metadata": {},
   "outputs": [
    {
     "data": {
      "text/html": [
       "<div>\n",
       "<style scoped>\n",
       "    .dataframe tbody tr th:only-of-type {\n",
       "        vertical-align: middle;\n",
       "    }\n",
       "\n",
       "    .dataframe tbody tr th {\n",
       "        vertical-align: top;\n",
       "    }\n",
       "\n",
       "    .dataframe thead th {\n",
       "        text-align: right;\n",
       "    }\n",
       "</style>\n",
       "<table border=\"1\" class=\"dataframe\">\n",
       "  <thead>\n",
       "    <tr style=\"text-align: right;\">\n",
       "      <th></th>\n",
       "      <th>Unnamed: 0</th>\n",
       "      <th>id</th>\n",
       "      <th>age</th>\n",
       "      <th>gender</th>\n",
       "      <th>income</th>\n",
       "      <th>days_on_platform</th>\n",
       "      <th>city</th>\n",
       "      <th>purchases</th>\n",
       "      <th>lifetime_value</th>\n",
       "    </tr>\n",
       "  </thead>\n",
       "  <tbody>\n",
       "    <tr>\n",
       "      <th>0</th>\n",
       "      <td>0</td>\n",
       "      <td>0</td>\n",
       "      <td>NaN</td>\n",
       "      <td>Male</td>\n",
       "      <td>126895</td>\n",
       "      <td>14.0</td>\n",
       "      <td>San Francisco</td>\n",
       "      <td>0</td>\n",
       "      <td>0</td>\n",
       "    </tr>\n",
       "    <tr>\n",
       "      <th>1</th>\n",
       "      <td>1</td>\n",
       "      <td>1</td>\n",
       "      <td>NaN</td>\n",
       "      <td>Male</td>\n",
       "      <td>161474</td>\n",
       "      <td>14.0</td>\n",
       "      <td>Tokyo</td>\n",
       "      <td>0</td>\n",
       "      <td>0</td>\n",
       "    </tr>\n",
       "    <tr>\n",
       "      <th>2</th>\n",
       "      <td>2</td>\n",
       "      <td>2</td>\n",
       "      <td>24.0</td>\n",
       "      <td>Male</td>\n",
       "      <td>104723</td>\n",
       "      <td>34.0</td>\n",
       "      <td>London</td>\n",
       "      <td>1</td>\n",
       "      <td>20</td>\n",
       "    </tr>\n",
       "    <tr>\n",
       "      <th>3</th>\n",
       "      <td>3</td>\n",
       "      <td>3</td>\n",
       "      <td>29.0</td>\n",
       "      <td>Male</td>\n",
       "      <td>43791</td>\n",
       "      <td>28.0</td>\n",
       "      <td>London</td>\n",
       "      <td>2</td>\n",
       "      <td>40</td>\n",
       "    </tr>\n",
       "    <tr>\n",
       "      <th>4</th>\n",
       "      <td>4</td>\n",
       "      <td>4</td>\n",
       "      <td>18.0</td>\n",
       "      <td>Female</td>\n",
       "      <td>132181</td>\n",
       "      <td>26.0</td>\n",
       "      <td>London</td>\n",
       "      <td>2</td>\n",
       "      <td>40</td>\n",
       "    </tr>\n",
       "  </tbody>\n",
       "</table>\n",
       "</div>"
      ],
      "text/plain": [
       "   Unnamed: 0  id   age  gender  income  days_on_platform           city  \\\n",
       "0           0   0   NaN    Male  126895              14.0  San Francisco   \n",
       "1           1   1   NaN    Male  161474              14.0          Tokyo   \n",
       "2           2   2  24.0    Male  104723              34.0         London   \n",
       "3           3   3  29.0    Male   43791              28.0         London   \n",
       "4           4   4  18.0  Female  132181              26.0         London   \n",
       "\n",
       "   purchases  lifetime_value  \n",
       "0          0               0  \n",
       "1          0               0  \n",
       "2          1              20  \n",
       "3          2              40  \n",
       "4          2              40  "
      ]
     },
     "execution_count": 2,
     "metadata": {},
     "output_type": "execute_result"
    }
   ],
   "source": [
    "\n",
    "df = pd.read_csv(\"5_data_preprocessing/5_1_missing_values/clv_data.csv\")\n",
    "\n",
    "df['lifetime_value'] = df['purchases'] * 20\n",
    "\n",
    "df.head()"
   ]
  },
  {
   "cell_type": "code",
   "execution_count": 3,
   "metadata": {},
   "outputs": [
    {
     "data": {
      "text/plain": [
       "Unnamed: 0             0\n",
       "id                     0\n",
       "age                 2446\n",
       "gender                 0\n",
       "income                 0\n",
       "days_on_platform     141\n",
       "city                   0\n",
       "purchases              0\n",
       "lifetime_value         0\n",
       "dtype: int64"
      ]
     },
     "execution_count": 3,
     "metadata": {},
     "output_type": "execute_result"
    }
   ],
   "source": [
    "df.isnull().sum()"
   ]
  },
  {
   "cell_type": "code",
   "execution_count": 4,
   "metadata": {},
   "outputs": [
    {
     "name": "stderr",
     "output_type": "stream",
     "text": [
      "c:\\Users\\dania\\AppData\\Local\\Programs\\Python\\Python39\\lib\\site-packages\\pandas\\core\\indexing.py:1676: SettingWithCopyWarning: \n",
      "A value is trying to be set on a copy of a slice from a DataFrame.\n",
      "Try using .loc[row_indexer,col_indexer] = value instead\n",
      "\n",
      "See the caveats in the documentation: https://pandas.pydata.org/pandas-docs/stable/user_guide/indexing.html#returning-a-view-versus-a-copy\n",
      "  self._setitem_single_column(ilocs[0], value, pi)\n"
     ]
    },
    {
     "name": "stdout",
     "output_type": "stream",
     "text": [
      "Drop Null MAE Score: 7.636\n",
      "Mean Impute MAE Score: 10.828\n",
      "Regression MAE Score: 10.795 \n",
      "Nearest Neighbor MAE Score: 10.795\n"
     ]
    }
   ],
   "source": [
    "# method 1 :drop\n",
    "drop_df = df.copy()\n",
    "drop_df = drop_df.dropna()\n",
    "X_d = drop_df[['age','days_on_platform','income']]\n",
    "y_d = drop_df['lifetime_value']\n",
    "X_train_d = X_d[:4000]\n",
    "y_train_d = y_d[:4000]\n",
    "X_test_d = X_d[1000:]\n",
    "y_test_d = y_d[1000:]\n",
    "\n",
    "# method 2 : use mean, mode , median\n",
    "m_df = df.copy()\n",
    "X_m = m_df[['age','days_on_platform','income']]\n",
    "y_m = m_df['lifetime_value']\n",
    "X_train_m = X_m[:4000]\n",
    "y_train_m = y_m[:4000]\n",
    "X_test_m = X_m[1000:]\n",
    "y_test_m = y_m[1000:]\n",
    "## Mean\n",
    "X_train_m.loc[:,'age'] = X_train_m['age'].fillna(np.mean(X_train_m['age']))\n",
    "X_test_m.loc[:,'age'] = X_test_m['age'].fillna(np.mean(X_train_m['age'])) ## Cannot use training dataset to impute\n",
    "X_train_m.loc[:,'days_on_platform'] = X_train_m['days_on_platform'].fillna(np.mean(X_train_m['days_on_platform']))\n",
    "X_test_m.loc[:,'days_on_platform'] = X_test_m['days_on_platform'].fillna(np.mean(X_train_m['days_on_platform'])) ## Cannot use training dataset to impute\n",
    "## Median\n",
    "m_df.loc[:,'age'] = df['age'].fillna(np.median(m_df['age']))\n",
    "## Mode\n",
    "m_df.loc[:,'age'] = m_df['age'].fillna(stats.mode(m_df['age'])[0][0])\n",
    "\n",
    "# method 3 : ml to impute\n",
    "from sklearn.experimental import enable_iterative_imputer\n",
    "from sklearn.impute import IterativeImputer, KNNImputer\n",
    "\n",
    "\n",
    "r_df = df.copy()\n",
    "X_r = r_df[['age','days_on_platform','income']]\n",
    "y_r = r_df['lifetime_value']\n",
    "X_train_r = X_r[:4000]\n",
    "y_train_r = y_r[:4000]\n",
    "X_test_r = X_r[1000:]\n",
    "y_test_r = y_r[1000:]\n",
    "\n",
    "# regression\n",
    "Imp = IterativeImputer(max_iter=10, random_state = 0)\n",
    "Imp.fit(X_train_r)\n",
    "X_train_r = Imp.transform(X_train_r)\n",
    "X_test_r = Imp.transform(X_test_r)\n",
    "X_train_r = pd.DataFrame(X_train_r)\n",
    "X_train_r.columns = X_train_r.columns\n",
    "X_test_r = pd.DataFrame(X_test_r)\n",
    "X_test_r.columns = X_test_r.columns\n",
    "r_df = pd.concat([X_train_r,X_test_r],axis = 0)\n",
    "\n",
    "# knn\n",
    "imputer = KNNImputer(n_neighbors=5, weights=\"uniform\")\n",
    "imputer.fit(X_train_r)\n",
    "X_train_k = imputer.transform(X_train_r)\n",
    "X_test_k = imputer.transform(X_test_r)\n",
    "y_train_k = y_train_r.copy()\n",
    "y_test_k = y_test_r.copy()\n",
    "\n",
    "\n",
    "# check score of each method \n",
    "from sklearn.ensemble import RandomForestRegressor\n",
    "from sklearn.metrics import mean_absolute_error\n",
    "\n",
    "# Drop Null Model\n",
    "clf_n = RandomForestRegressor(random_state=0)\n",
    "clf_n.fit(X_train_d, y_train_d)\n",
    "pred_dropna = clf_n.predict(X_test_d)\n",
    "\n",
    "# Mean Imputation Model\n",
    "clf_m = RandomForestRegressor(random_state=0)\n",
    "clf_m.fit(X_train_m, y_train_m)\n",
    "pred_m = clf_m.predict(X_test_m)\n",
    "\n",
    "# Regression Imputation\n",
    "clf_r = RandomForestRegressor(random_state=0)\n",
    "clf_r.fit(X_train_r, y_train_r)\n",
    "pred_r = clf_r.predict(X_test_r)\n",
    "\n",
    "#Nearest Neighbor Imputation\n",
    "clf_n = RandomForestRegressor(random_state=0)\n",
    "clf_n.fit(X_train_k, y_train_k)\n",
    "pred_k = clf_n.predict(X_test_k)\n",
    "\n",
    "\n",
    "print('Drop Null MAE Score: %.3f' % mean_absolute_error(y_test_d,pred_dropna))\n",
    "print('Mean Impute MAE Score: %.3f' % mean_absolute_error(y_test_m,pred_m))\n",
    "print('Regression MAE Score: %.3f '% mean_absolute_error(y_test_r,pred_r))\n",
    "print('Nearest Neighbor MAE Score: %.3f'% mean_absolute_error(y_test_k,pred_k))"
   ]
  },
  {
   "cell_type": "markdown",
   "metadata": {},
   "source": [
    "# Outliers"
   ]
  },
  {
   "cell_type": "markdown",
   "metadata": {},
   "source": [
    "**Outlier Detection**\n",
    "- Box Plots\n",
    "- Z-Scores\n",
    "- Isolation Forests\n",
    "- DBSCAN\n",
    "\n",
    "**Outlier Treatment**\n",
    "- Removal\n",
    "- Winsorize\n"
   ]
  },
  {
   "cell_type": "code",
   "execution_count": 5,
   "metadata": {},
   "outputs": [],
   "source": [
    "df = pd.read_csv(\"5_data_preprocessing/5_1_missing_values/clv_data.csv\")"
   ]
  },
  {
   "cell_type": "code",
   "execution_count": 6,
   "metadata": {},
   "outputs": [
    {
     "name": "stderr",
     "output_type": "stream",
     "text": [
      "c:\\Users\\dania\\AppData\\Local\\Programs\\Python\\Python39\\lib\\site-packages\\seaborn\\_decorators.py:36: FutureWarning: Pass the following variable as a keyword arg: x. From version 0.12, the only valid positional argument will be `data`, and passing other arguments without an explicit keyword will result in an error or misinterpretation.\n",
      "  warnings.warn(\n"
     ]
    },
    {
     "data": {
      "text/plain": [
       "<AxesSubplot:xlabel='purchases'>"
      ]
     },
     "execution_count": 6,
     "metadata": {},
     "output_type": "execute_result"
    },
    {
     "data": {
      "image/png": "[encoded data removed]",
      "text/plain": [
       "<Figure size 432x288 with 1 Axes>"
      ]
     },
     "metadata": {
      "needs_background": "light"
     },
     "output_type": "display_data"
    }
   ],
   "source": [
    "# method 1: boxplot\n",
    "sns.boxplot(df['purchases'])"
   ]
  },
  {
   "cell_type": "code",
   "execution_count": 7,
   "metadata": {},
   "outputs": [
    {
     "data": {
      "text/plain": [
       "{'bodies': [<matplotlib.collections.PolyCollection at 0x20adac805e0>],\n",
       " 'cmaxes': <matplotlib.collections.LineCollection at 0x20b5ce58d90>,\n",
       " 'cmins': <matplotlib.collections.LineCollection at 0x20b5cf1c220>,\n",
       " 'cbars': <matplotlib.collections.LineCollection at 0x20b5cf1c550>}"
      ]
     },
     "execution_count": 7,
     "metadata": {},
     "output_type": "execute_result"
    },
    {
     "data": {
      "image/png": "[encoded data removed]",
      "text/plain": [
       "<Figure size 432x288 with 1 Axes>"
      ]
     },
     "metadata": {
      "needs_background": "light"
     },
     "output_type": "display_data"
    }
   ],
   "source": [
    "# method 2: violin plot\n",
    "plt.violinplot(df['purchases'])"
   ]
  },
  {
   "cell_type": "code",
   "execution_count": 8,
   "metadata": {},
   "outputs": [
    {
     "name": "stdout",
     "output_type": "stream",
     "text": [
      "Outliers within the box plot are :47      5\n",
      "104     5\n",
      "142     5\n",
      "301     5\n",
      "323     5\n",
      "485     6\n",
      "486     5\n",
      "1026    5\n",
      "1104    6\n",
      "1112    5\n",
      "1120    6\n",
      "1125    5\n",
      "1374    5\n",
      "1504    5\n",
      "1623    5\n",
      "1669    6\n",
      "1670    5\n",
      "1809    6\n",
      "1818    5\n",
      "1836    5\n",
      "1870    5\n",
      "2180    5\n",
      "2463    6\n",
      "2548    5\n",
      "2572    5\n",
      "2605    5\n",
      "2717    5\n",
      "2901    5\n",
      "3032    6\n",
      "3080    5\n",
      "3105    5\n",
      "3162    5\n",
      "3170    5\n",
      "3291    5\n",
      "3298    5\n",
      "3321    5\n",
      "3361    5\n",
      "3380    5\n",
      "3410    5\n",
      "3566    5\n",
      "3603    6\n",
      "3631    6\n",
      "3835    5\n",
      "3848    5\n",
      "4003    6\n",
      "4141    5\n",
      "4334    5\n",
      "4346    5\n",
      "4545    5\n",
      "4597    5\n",
      "4611    5\n",
      "4620    5\n",
      "4662    5\n",
      "4691    5\n",
      "4728    5\n",
      "4751    5\n",
      "4761    5\n",
      "4895    5\n",
      "4958    5\n",
      "Name: purchases, dtype: int64\n"
     ]
    },
    {
     "data": {
      "text/plain": [
       "47      5\n",
       "104     5\n",
       "142     5\n",
       "301     5\n",
       "323     5\n",
       "485     6\n",
       "486     5\n",
       "1026    5\n",
       "1104    6\n",
       "1112    5\n",
       "1120    6\n",
       "1125    5\n",
       "1374    5\n",
       "1504    5\n",
       "1623    5\n",
       "1669    6\n",
       "1670    5\n",
       "1809    6\n",
       "1818    5\n",
       "1836    5\n",
       "1870    5\n",
       "2180    5\n",
       "2463    6\n",
       "2548    5\n",
       "2572    5\n",
       "2605    5\n",
       "2717    5\n",
       "2901    5\n",
       "3032    6\n",
       "3080    5\n",
       "3105    5\n",
       "3162    5\n",
       "3170    5\n",
       "3291    5\n",
       "3298    5\n",
       "3321    5\n",
       "3361    5\n",
       "3380    5\n",
       "3410    5\n",
       "3566    5\n",
       "3603    6\n",
       "3631    6\n",
       "3835    5\n",
       "3848    5\n",
       "4003    6\n",
       "4141    5\n",
       "4334    5\n",
       "4346    5\n",
       "4545    5\n",
       "4597    5\n",
       "4611    5\n",
       "4620    5\n",
       "4662    5\n",
       "4691    5\n",
       "4728    5\n",
       "4751    5\n",
       "4761    5\n",
       "4895    5\n",
       "4958    5\n",
       "Name: purchases, dtype: int64"
      ]
     },
     "execution_count": 8,
     "metadata": {},
     "output_type": "execute_result"
    }
   ],
   "source": [
    "# method 3: \n",
    "\n",
    "def extract_outliers_from_boxplot(array):\n",
    "    ## Get IQR\n",
    "    q1 = np.quantile(array, 0.25)\n",
    "    q3 = np.quantile(array, 0.75)\n",
    "    med = np.median(array)\n",
    "\n",
    "    # finding the iqr region\n",
    "    iqr = q3-q1\n",
    "\n",
    "    # finding upper and lower whiskers\n",
    "    upper_bound = q3+(1.5*iqr)\n",
    "    lower_bound = q1-(1.5*iqr)\n",
    "\n",
    "    outliers = array[(array <= lower_bound) | (array >= upper_bound)]\n",
    "    print('Outliers within the box plot are :{}'.format(outliers))\n",
    "    return outliers\n",
    "\n",
    "extract_outliers_from_boxplot(df['purchases'])"
   ]
  },
  {
   "cell_type": "code",
   "execution_count": 9,
   "metadata": {},
   "outputs": [],
   "source": [
    "# method 4: z scores\n",
    "purchases = df['purchases']\n",
    "\n",
    "def percentile_outliers(array,\n",
    "                        lower_bound_perc,\n",
    "                        upper_bound_perc):\n",
    "    \n",
    "    upper_bound = np.percentile(df['purchases'], upper_bound_perc)\n",
    "    lower_bound = np.percentile(df['purchases'], lower_bound_perc)\n",
    "    \n",
    "    outliers = array[(array <= lower_bound) | (array >= upper_bound)]\n",
    "    \n",
    "    return outliers\n",
    "\n",
    "def z_score_outliers(array,\n",
    "                     z_score_lower,\n",
    "                     z_score_upper):\n",
    "\n",
    "    z_scores = scipy.stats.zscore(array)\n",
    "    outliers = (z_scores > 1.96) | (z_scores < -1.96)\n",
    "    \n",
    "    return array[outliers]"
   ]
  },
  {
   "cell_type": "code",
   "execution_count": 10,
   "metadata": {},
   "outputs": [
    {
     "data": {
      "text/plain": [
       "28      4\n",
       "47      5\n",
       "51      4\n",
       "67      4\n",
       "74      4\n",
       "       ..\n",
       "4880    4\n",
       "4895    5\n",
       "4897    4\n",
       "4944    4\n",
       "4958    5\n",
       "Name: purchases, Length: 227, dtype: int64"
      ]
     },
     "execution_count": 10,
     "metadata": {},
     "output_type": "execute_result"
    }
   ],
   "source": [
    "outliers = percentile_outliers(df['purchases'],\n",
    "               upper_bound_perc = 99,\n",
    "               lower_bound_perc = 1)\n",
    "\n",
    "z_score_outliers(df['purchases'],\n",
    "                     z_score_lower = -1.96,\n",
    "                     z_score_upper = 1.96)"
   ]
  },
  {
   "cell_type": "code",
   "execution_count": 11,
   "metadata": {},
   "outputs": [
    {
     "data": {
      "text/html": [
       "<div>\n",
       "<style scoped>\n",
       "    .dataframe tbody tr th:only-of-type {\n",
       "        vertical-align: middle;\n",
       "    }\n",
       "\n",
       "    .dataframe tbody tr th {\n",
       "        vertical-align: top;\n",
       "    }\n",
       "\n",
       "    .dataframe thead th {\n",
       "        text-align: right;\n",
       "    }\n",
       "</style>\n",
       "<table border=\"1\" class=\"dataframe\">\n",
       "  <thead>\n",
       "    <tr style=\"text-align: right;\">\n",
       "      <th></th>\n",
       "      <th>Unnamed: 0</th>\n",
       "      <th>id</th>\n",
       "      <th>age</th>\n",
       "      <th>gender</th>\n",
       "      <th>income</th>\n",
       "      <th>days_on_platform</th>\n",
       "      <th>city</th>\n",
       "      <th>purchases</th>\n",
       "      <th>scores</th>\n",
       "      <th>anomaly</th>\n",
       "    </tr>\n",
       "  </thead>\n",
       "  <tbody>\n",
       "    <tr>\n",
       "      <th>15</th>\n",
       "      <td>15</td>\n",
       "      <td>15</td>\n",
       "      <td>31.0</td>\n",
       "      <td>Female</td>\n",
       "      <td>226249</td>\n",
       "      <td>20.0</td>\n",
       "      <td>Miami</td>\n",
       "      <td>0</td>\n",
       "      <td>-0.061339</td>\n",
       "      <td>-1</td>\n",
       "    </tr>\n",
       "    <tr>\n",
       "      <th>17</th>\n",
       "      <td>17</td>\n",
       "      <td>17</td>\n",
       "      <td>27.0</td>\n",
       "      <td>Female</td>\n",
       "      <td>177582</td>\n",
       "      <td>2.0</td>\n",
       "      <td>London</td>\n",
       "      <td>0</td>\n",
       "      <td>-0.032847</td>\n",
       "      <td>-1</td>\n",
       "    </tr>\n",
       "    <tr>\n",
       "      <th>18</th>\n",
       "      <td>18</td>\n",
       "      <td>18</td>\n",
       "      <td>10.0</td>\n",
       "      <td>Female</td>\n",
       "      <td>260</td>\n",
       "      <td>32.0</td>\n",
       "      <td>San Francisco</td>\n",
       "      <td>0</td>\n",
       "      <td>-0.068324</td>\n",
       "      <td>-1</td>\n",
       "    </tr>\n",
       "    <tr>\n",
       "      <th>23</th>\n",
       "      <td>23</td>\n",
       "      <td>23</td>\n",
       "      <td>10.0</td>\n",
       "      <td>Female</td>\n",
       "      <td>108804</td>\n",
       "      <td>5.0</td>\n",
       "      <td>Tokyo</td>\n",
       "      <td>2</td>\n",
       "      <td>-0.061219</td>\n",
       "      <td>-1</td>\n",
       "    </tr>\n",
       "    <tr>\n",
       "      <th>25</th>\n",
       "      <td>25</td>\n",
       "      <td>25</td>\n",
       "      <td>46.0</td>\n",
       "      <td>Female</td>\n",
       "      <td>112992</td>\n",
       "      <td>9.0</td>\n",
       "      <td>London</td>\n",
       "      <td>3</td>\n",
       "      <td>-0.033604</td>\n",
       "      <td>-1</td>\n",
       "    </tr>\n",
       "    <tr>\n",
       "      <th>...</th>\n",
       "      <td>...</td>\n",
       "      <td>...</td>\n",
       "      <td>...</td>\n",
       "      <td>...</td>\n",
       "      <td>...</td>\n",
       "      <td>...</td>\n",
       "      <td>...</td>\n",
       "      <td>...</td>\n",
       "      <td>...</td>\n",
       "      <td>...</td>\n",
       "    </tr>\n",
       "    <tr>\n",
       "      <th>4967</th>\n",
       "      <td>4967</td>\n",
       "      <td>4967</td>\n",
       "      <td>25.0</td>\n",
       "      <td>Male</td>\n",
       "      <td>73732</td>\n",
       "      <td>56.0</td>\n",
       "      <td>London</td>\n",
       "      <td>0</td>\n",
       "      <td>-0.004320</td>\n",
       "      <td>-1</td>\n",
       "    </tr>\n",
       "    <tr>\n",
       "      <th>4970</th>\n",
       "      <td>4970</td>\n",
       "      <td>4970</td>\n",
       "      <td>34.0</td>\n",
       "      <td>Female</td>\n",
       "      <td>9850</td>\n",
       "      <td>3.0</td>\n",
       "      <td>New York City</td>\n",
       "      <td>3</td>\n",
       "      <td>-0.030597</td>\n",
       "      <td>-1</td>\n",
       "    </tr>\n",
       "    <tr>\n",
       "      <th>4979</th>\n",
       "      <td>4979</td>\n",
       "      <td>4979</td>\n",
       "      <td>50.0</td>\n",
       "      <td>Male</td>\n",
       "      <td>90750</td>\n",
       "      <td>71.0</td>\n",
       "      <td>New York City</td>\n",
       "      <td>1</td>\n",
       "      <td>-0.105266</td>\n",
       "      <td>-1</td>\n",
       "    </tr>\n",
       "    <tr>\n",
       "      <th>4984</th>\n",
       "      <td>4984</td>\n",
       "      <td>4984</td>\n",
       "      <td>24.0</td>\n",
       "      <td>Female</td>\n",
       "      <td>225155</td>\n",
       "      <td>8.0</td>\n",
       "      <td>San Francisco</td>\n",
       "      <td>2</td>\n",
       "      <td>-0.083877</td>\n",
       "      <td>-1</td>\n",
       "    </tr>\n",
       "    <tr>\n",
       "      <th>4990</th>\n",
       "      <td>4990</td>\n",
       "      <td>4990</td>\n",
       "      <td>33.0</td>\n",
       "      <td>Male</td>\n",
       "      <td>3020</td>\n",
       "      <td>89.0</td>\n",
       "      <td>New York City</td>\n",
       "      <td>0</td>\n",
       "      <td>-0.098756</td>\n",
       "      <td>-1</td>\n",
       "    </tr>\n",
       "  </tbody>\n",
       "</table>\n",
       "<p>1003 rows × 10 columns</p>\n",
       "</div>"
      ],
      "text/plain": [
       "      Unnamed: 0    id   age  gender  income  days_on_platform           city  \\\n",
       "15            15    15  31.0  Female  226249              20.0          Miami   \n",
       "17            17    17  27.0  Female  177582               2.0         London   \n",
       "18            18    18  10.0  Female     260              32.0  San Francisco   \n",
       "23            23    23  10.0  Female  108804               5.0          Tokyo   \n",
       "25            25    25  46.0  Female  112992               9.0         London   \n",
       "...          ...   ...   ...     ...     ...               ...            ...   \n",
       "4967        4967  4967  25.0    Male   73732              56.0         London   \n",
       "4970        4970  4970  34.0  Female    9850               3.0  New York City   \n",
       "4979        4979  4979  50.0    Male   90750              71.0  New York City   \n",
       "4984        4984  4984  24.0  Female  225155               8.0  San Francisco   \n",
       "4990        4990  4990  33.0    Male    3020              89.0  New York City   \n",
       "\n",
       "      purchases    scores  anomaly  \n",
       "15            0 -0.061339       -1  \n",
       "17            0 -0.032847       -1  \n",
       "18            0 -0.068324       -1  \n",
       "23            2 -0.061219       -1  \n",
       "25            3 -0.033604       -1  \n",
       "...         ...       ...      ...  \n",
       "4967          0 -0.004320       -1  \n",
       "4970          3 -0.030597       -1  \n",
       "4979          1 -0.105266       -1  \n",
       "4984          2 -0.083877       -1  \n",
       "4990          0 -0.098756       -1  \n",
       "\n",
       "[1003 rows x 10 columns]"
      ]
     },
     "execution_count": 11,
     "metadata": {},
     "output_type": "execute_result"
    }
   ],
   "source": [
    "# method 5: random forest \n",
    "\n",
    "from sklearn.ensemble import IsolationForest\n",
    "\n",
    "features = ['age','income','days_on_platform','purchases']\n",
    "\n",
    "## We'll do a simple drop null for now\n",
    "df = df.dropna()\n",
    "\n",
    "## Create a training-test set\n",
    "X = df[features]\n",
    "X_train = X[:4000]\n",
    "X_test = X[1000:]\n",
    "\n",
    "## Fit Model\n",
    "clf = IsolationForest(n_estimators=50, max_samples=100)\n",
    "clf.fit(X_train)\n",
    "\n",
    "## Get Scores\n",
    "df['scores'] = clf.decision_function(X_train)\n",
    "df['anomaly'] = clf.predict(X)\n",
    "\n",
    "## Get Anomalies\n",
    "outliers=df.loc[df['anomaly']==-1]\n",
    "\n",
    "outliers"
   ]
  },
  {
   "cell_type": "code",
   "execution_count": 12,
   "metadata": {},
   "outputs": [],
   "source": [
    "# outlier treatment \n",
    "\n",
    "# method 1: remove using z score \n",
    "# def z_score_removal(df, column, lower_z_score, upper_z_score):\n",
    "    \n",
    "#     col_df = df[column]\n",
    "\n",
    "#     z_scores = scipy.stats.zscore(purchases)\n",
    "#     outliers = (z_scores > upper_z_score) | (z_scores < lower_z_score)\n",
    "#     return df[~outliers]\n",
    "\n",
    "# def percentile_removal(df, column, lower_bound_perc, upper_bound_perc):\n",
    "    \n",
    "#     col_df = df[column]\n",
    "    \n",
    "#     upper_bound = np.percentile(col_df, upper_bound_perc)\n",
    "#     lower_bound = np.percentile(col_df, lower_bound_perc)\n",
    "\n",
    "#     z_scores = scipy.stats.zscore(purchases)\n",
    "#     outliers = (z_scores > upper_bound) | (z_scores < lower_bound)\n",
    "#     return df[~outliers]\n",
    "\n",
    "# filtered_df = z_score_removal(df, 'purchases', -1.96, 1.96)\n",
    "# percentile_removal(df, 'purchases', lower_bound_perc = 1, upper_bound_perc = 99)\n",
    "\n"
   ]
  },
  {
   "cell_type": "code",
   "execution_count": 13,
   "metadata": {},
   "outputs": [
    {
     "data": {
      "text/html": [
       "<div>\n",
       "<style scoped>\n",
       "    .dataframe tbody tr th:only-of-type {\n",
       "        vertical-align: middle;\n",
       "    }\n",
       "\n",
       "    .dataframe tbody tr th {\n",
       "        vertical-align: top;\n",
       "    }\n",
       "\n",
       "    .dataframe thead th {\n",
       "        text-align: right;\n",
       "    }\n",
       "</style>\n",
       "<table border=\"1\" class=\"dataframe\">\n",
       "  <thead>\n",
       "    <tr style=\"text-align: right;\">\n",
       "      <th></th>\n",
       "      <th>Unnamed: 0</th>\n",
       "      <th>id</th>\n",
       "      <th>age</th>\n",
       "      <th>gender</th>\n",
       "      <th>income</th>\n",
       "      <th>days_on_platform</th>\n",
       "      <th>city</th>\n",
       "      <th>purchases</th>\n",
       "      <th>scores</th>\n",
       "      <th>anomaly</th>\n",
       "    </tr>\n",
       "  </thead>\n",
       "  <tbody>\n",
       "    <tr>\n",
       "      <th>2</th>\n",
       "      <td>2</td>\n",
       "      <td>2</td>\n",
       "      <td>24.0</td>\n",
       "      <td>Male</td>\n",
       "      <td>104723</td>\n",
       "      <td>34.0</td>\n",
       "      <td>London</td>\n",
       "      <td>1.0</td>\n",
       "      <td>0.046267</td>\n",
       "      <td>1</td>\n",
       "    </tr>\n",
       "    <tr>\n",
       "      <th>3</th>\n",
       "      <td>3</td>\n",
       "      <td>3</td>\n",
       "      <td>29.0</td>\n",
       "      <td>Male</td>\n",
       "      <td>43791</td>\n",
       "      <td>28.0</td>\n",
       "      <td>London</td>\n",
       "      <td>2.0</td>\n",
       "      <td>0.047948</td>\n",
       "      <td>1</td>\n",
       "    </tr>\n",
       "    <tr>\n",
       "      <th>4</th>\n",
       "      <td>4</td>\n",
       "      <td>4</td>\n",
       "      <td>18.0</td>\n",
       "      <td>Female</td>\n",
       "      <td>132181</td>\n",
       "      <td>26.0</td>\n",
       "      <td>London</td>\n",
       "      <td>2.0</td>\n",
       "      <td>0.032713</td>\n",
       "      <td>1</td>\n",
       "    </tr>\n",
       "    <tr>\n",
       "      <th>5</th>\n",
       "      <td>5</td>\n",
       "      <td>5</td>\n",
       "      <td>23.0</td>\n",
       "      <td>Male</td>\n",
       "      <td>12315</td>\n",
       "      <td>14.0</td>\n",
       "      <td>New York City</td>\n",
       "      <td>0.0</td>\n",
       "      <td>0.047015</td>\n",
       "      <td>1</td>\n",
       "    </tr>\n",
       "    <tr>\n",
       "      <th>8</th>\n",
       "      <td>8</td>\n",
       "      <td>8</td>\n",
       "      <td>46.0</td>\n",
       "      <td>Male</td>\n",
       "      <td>129157</td>\n",
       "      <td>23.0</td>\n",
       "      <td>New York City</td>\n",
       "      <td>0.0</td>\n",
       "      <td>0.032120</td>\n",
       "      <td>1</td>\n",
       "    </tr>\n",
       "    <tr>\n",
       "      <th>...</th>\n",
       "      <td>...</td>\n",
       "      <td>...</td>\n",
       "      <td>...</td>\n",
       "      <td>...</td>\n",
       "      <td>...</td>\n",
       "      <td>...</td>\n",
       "      <td>...</td>\n",
       "      <td>...</td>\n",
       "      <td>...</td>\n",
       "      <td>...</td>\n",
       "    </tr>\n",
       "    <tr>\n",
       "      <th>4986</th>\n",
       "      <td>4986</td>\n",
       "      <td>4986</td>\n",
       "      <td>23.0</td>\n",
       "      <td>Male</td>\n",
       "      <td>75425</td>\n",
       "      <td>6.0</td>\n",
       "      <td>London</td>\n",
       "      <td>1.0</td>\n",
       "      <td>0.058865</td>\n",
       "      <td>1</td>\n",
       "    </tr>\n",
       "    <tr>\n",
       "      <th>4989</th>\n",
       "      <td>4989</td>\n",
       "      <td>4989</td>\n",
       "      <td>47.0</td>\n",
       "      <td>Female</td>\n",
       "      <td>84987</td>\n",
       "      <td>30.0</td>\n",
       "      <td>Tokyo</td>\n",
       "      <td>0.0</td>\n",
       "      <td>0.020396</td>\n",
       "      <td>1</td>\n",
       "    </tr>\n",
       "    <tr>\n",
       "      <th>4990</th>\n",
       "      <td>4990</td>\n",
       "      <td>4990</td>\n",
       "      <td>33.0</td>\n",
       "      <td>Male</td>\n",
       "      <td>3020</td>\n",
       "      <td>89.0</td>\n",
       "      <td>New York City</td>\n",
       "      <td>0.0</td>\n",
       "      <td>-0.098756</td>\n",
       "      <td>-1</td>\n",
       "    </tr>\n",
       "    <tr>\n",
       "      <th>4991</th>\n",
       "      <td>4991</td>\n",
       "      <td>4991</td>\n",
       "      <td>36.0</td>\n",
       "      <td>Female</td>\n",
       "      <td>26173</td>\n",
       "      <td>34.0</td>\n",
       "      <td>Tokyo</td>\n",
       "      <td>0.0</td>\n",
       "      <td>0.041262</td>\n",
       "      <td>1</td>\n",
       "    </tr>\n",
       "    <tr>\n",
       "      <th>4992</th>\n",
       "      <td>4992</td>\n",
       "      <td>4992</td>\n",
       "      <td>26.0</td>\n",
       "      <td>Male</td>\n",
       "      <td>88858</td>\n",
       "      <td>14.0</td>\n",
       "      <td>Miami</td>\n",
       "      <td>3.0</td>\n",
       "      <td>0.020134</td>\n",
       "      <td>1</td>\n",
       "    </tr>\n",
       "  </tbody>\n",
       "</table>\n",
       "<p>2476 rows × 10 columns</p>\n",
       "</div>"
      ],
      "text/plain": [
       "      Unnamed: 0    id   age  gender  income  days_on_platform           city  \\\n",
       "2              2     2  24.0    Male  104723              34.0         London   \n",
       "3              3     3  29.0    Male   43791              28.0         London   \n",
       "4              4     4  18.0  Female  132181              26.0         London   \n",
       "5              5     5  23.0    Male   12315              14.0  New York City   \n",
       "8              8     8  46.0    Male  129157              23.0  New York City   \n",
       "...          ...   ...   ...     ...     ...               ...            ...   \n",
       "4986        4986  4986  23.0    Male   75425               6.0         London   \n",
       "4989        4989  4989  47.0  Female   84987              30.0          Tokyo   \n",
       "4990        4990  4990  33.0    Male    3020              89.0  New York City   \n",
       "4991        4991  4991  36.0  Female   26173              34.0          Tokyo   \n",
       "4992        4992  4992  26.0    Male   88858              14.0          Miami   \n",
       "\n",
       "      purchases    scores  anomaly  \n",
       "2           1.0  0.046267        1  \n",
       "3           2.0  0.047948        1  \n",
       "4           2.0  0.032713        1  \n",
       "5           0.0  0.047015        1  \n",
       "8           0.0  0.032120        1  \n",
       "...         ...       ...      ...  \n",
       "4986        1.0  0.058865        1  \n",
       "4989        0.0  0.020396        1  \n",
       "4990        0.0 -0.098756       -1  \n",
       "4991        0.0  0.041262        1  \n",
       "4992        3.0  0.020134        1  \n",
       "\n",
       "[2476 rows x 10 columns]"
      ]
     },
     "execution_count": 13,
     "metadata": {},
     "output_type": "execute_result"
    }
   ],
   "source": [
    "# remove using windscore\n",
    "\n",
    "def winsorize(df, column, upper, lower):\n",
    "    col_df = df[column]\n",
    "    \n",
    "    perc_upper = np.percentile(df[column],upper)\n",
    "    perc_lower = np.percentile(df[column],lower)\n",
    "    \n",
    "    df[column] = np.where(df[column] >= perc_upper, \n",
    "                          perc_upper, \n",
    "                          df[column])\n",
    "    \n",
    "    df[column] = np.where(df[column] <= perc_lower, \n",
    "                          perc_lower, \n",
    "                          df[column])\n",
    "    \n",
    "    return df\n",
    "\n",
    "winsorize(df, 'purchases', 97.5, 0.025)"
   ]
  },
  {
   "cell_type": "code",
   "execution_count": 14,
   "metadata": {},
   "outputs": [],
   "source": [
    "# EDA\n",
    "df_agg = pd.read_csv('6_exploratory_data_analysis/Aggregated_Metrics_By_Video.csv')\n",
    "df_agg_country_sub  = pd.read_csv('6_exploratory_data_analysis/Aggregated_Metrics_By_Video.csv')\n",
    "df_ts  = pd.read_csv('6_exploratory_data_analysis/Video_Performance_Over_Time.csv')\n",
    "df_comments = pd.read_csv('6_exploratory_data_analysis/All_Comments_Final.csv')"
   ]
  },
  {
   "cell_type": "code",
   "execution_count": 15,
   "metadata": {},
   "outputs": [
    {
     "data": {
      "text/html": [
       "<div>\n",
       "<style scoped>\n",
       "    .dataframe tbody tr th:only-of-type {\n",
       "        vertical-align: middle;\n",
       "    }\n",
       "\n",
       "    .dataframe tbody tr th {\n",
       "        vertical-align: top;\n",
       "    }\n",
       "\n",
       "    .dataframe thead th {\n",
       "        text-align: right;\n",
       "    }\n",
       "</style>\n",
       "<table border=\"1\" class=\"dataframe\">\n",
       "  <thead>\n",
       "    <tr style=\"text-align: right;\">\n",
       "      <th></th>\n",
       "      <th>Com­ments ad­ded</th>\n",
       "      <th>Shares</th>\n",
       "      <th>Dis­likes</th>\n",
       "      <th>Likes</th>\n",
       "      <th>Sub­scribers lost</th>\n",
       "      <th>Sub­scribers gained</th>\n",
       "      <th>RPM (USD)</th>\n",
       "      <th>CPM (USD)</th>\n",
       "      <th>Av­er­age per­cent­age viewed (%)</th>\n",
       "      <th>Views</th>\n",
       "      <th>Watch time (hours)</th>\n",
       "      <th>Sub­scribers</th>\n",
       "      <th>Your es­tim­ated rev­en­ue (USD)</th>\n",
       "      <th>Im­pres­sions</th>\n",
       "      <th>Im­pres­sions click-through rate (%)</th>\n",
       "    </tr>\n",
       "  </thead>\n",
       "  <tbody>\n",
       "    <tr>\n",
       "      <th>count</th>\n",
       "      <td>224.000000</td>\n",
       "      <td>224.000000</td>\n",
       "      <td>224.000000</td>\n",
       "      <td>224.000000</td>\n",
       "      <td>224.000000</td>\n",
       "      <td>224.000000</td>\n",
       "      <td>224.000000</td>\n",
       "      <td>222.000000</td>\n",
       "      <td>224.000000</td>\n",
       "      <td>2.240000e+02</td>\n",
       "      <td>224.000000</td>\n",
       "      <td>224.000000</td>\n",
       "      <td>224.000000</td>\n",
       "      <td>2.240000e+02</td>\n",
       "      <td>224.000000</td>\n",
       "    </tr>\n",
       "    <tr>\n",
       "      <th>mean</th>\n",
       "      <td>126.750000</td>\n",
       "      <td>353.924107</td>\n",
       "      <td>34.839286</td>\n",
       "      <td>2008.919643</td>\n",
       "      <td>217.620536</td>\n",
       "      <td>1608.084821</td>\n",
       "      <td>4.442040</td>\n",
       "      <td>11.442779</td>\n",
       "      <td>34.087277</td>\n",
       "      <td>4.971645e+04</td>\n",
       "      <td>2835.711522</td>\n",
       "      <td>1390.464286</td>\n",
       "      <td>259.537433</td>\n",
       "      <td>9.013573e+05</td>\n",
       "      <td>3.084152</td>\n",
       "    </tr>\n",
       "    <tr>\n",
       "      <th>std</th>\n",
       "      <td>948.732371</td>\n",
       "      <td>2736.321694</td>\n",
       "      <td>268.668317</td>\n",
       "      <td>15387.274015</td>\n",
       "      <td>3058.766918</td>\n",
       "      <td>15628.834115</td>\n",
       "      <td>1.789148</td>\n",
       "      <td>3.334781</td>\n",
       "      <td>15.118746</td>\n",
       "      <td>3.810302e+05</td>\n",
       "      <td>21662.566897</td>\n",
       "      <td>12647.246927</td>\n",
       "      <td>2011.119492</td>\n",
       "      <td>6.967916e+06</td>\n",
       "      <td>1.670448</td>\n",
       "    </tr>\n",
       "    <tr>\n",
       "      <th>min</th>\n",
       "      <td>0.000000</td>\n",
       "      <td>0.000000</td>\n",
       "      <td>0.000000</td>\n",
       "      <td>1.000000</td>\n",
       "      <td>0.000000</td>\n",
       "      <td>0.000000</td>\n",
       "      <td>0.000000</td>\n",
       "      <td>5.439000</td>\n",
       "      <td>5.230000</td>\n",
       "      <td>6.000000e+01</td>\n",
       "      <td>1.068400</td>\n",
       "      <td>-21.000000</td>\n",
       "      <td>0.000000</td>\n",
       "      <td>3.650000e+02</td>\n",
       "      <td>0.490000</td>\n",
       "    </tr>\n",
       "    <tr>\n",
       "      <th>25%</th>\n",
       "      <td>18.000000</td>\n",
       "      <td>19.000000</td>\n",
       "      <td>1.000000</td>\n",
       "      <td>163.500000</td>\n",
       "      <td>2.000000</td>\n",
       "      <td>27.000000</td>\n",
       "      <td>3.220750</td>\n",
       "      <td>9.379500</td>\n",
       "      <td>23.602500</td>\n",
       "      <td>3.940000e+03</td>\n",
       "      <td>177.037125</td>\n",
       "      <td>19.750000</td>\n",
       "      <td>12.208250</td>\n",
       "      <td>9.947100e+04</td>\n",
       "      <td>1.925000</td>\n",
       "    </tr>\n",
       "    <tr>\n",
       "      <th>50%</th>\n",
       "      <td>37.000000</td>\n",
       "      <td>46.500000</td>\n",
       "      <td>4.000000</td>\n",
       "      <td>342.500000</td>\n",
       "      <td>7.000000</td>\n",
       "      <td>70.000000</td>\n",
       "      <td>4.334500</td>\n",
       "      <td>11.169500</td>\n",
       "      <td>35.120000</td>\n",
       "      <td>8.347500e+03</td>\n",
       "      <td>397.852200</td>\n",
       "      <td>62.500000</td>\n",
       "      <td>32.595500</td>\n",
       "      <td>1.541925e+05</td>\n",
       "      <td>2.895000</td>\n",
       "    </tr>\n",
       "    <tr>\n",
       "      <th>75%</th>\n",
       "      <td>66.250000</td>\n",
       "      <td>114.250000</td>\n",
       "      <td>11.000000</td>\n",
       "      <td>716.000000</td>\n",
       "      <td>14.000000</td>\n",
       "      <td>245.500000</td>\n",
       "      <td>5.372250</td>\n",
       "      <td>12.901000</td>\n",
       "      <td>43.462500</td>\n",
       "      <td>1.836875e+04</td>\n",
       "      <td>1145.621400</td>\n",
       "      <td>230.500000</td>\n",
       "      <td>96.814750</td>\n",
       "      <td>2.894885e+05</td>\n",
       "      <td>3.975000</td>\n",
       "    </tr>\n",
       "    <tr>\n",
       "      <th>max</th>\n",
       "      <td>14197.000000</td>\n",
       "      <td>39640.000000</td>\n",
       "      <td>3902.000000</td>\n",
       "      <td>225021.000000</td>\n",
       "      <td>45790.000000</td>\n",
       "      <td>229241.000000</td>\n",
       "      <td>10.387000</td>\n",
       "      <td>37.786000</td>\n",
       "      <td>76.600000</td>\n",
       "      <td>5.568487e+06</td>\n",
       "      <td>317602.353600</td>\n",
       "      <td>183451.000000</td>\n",
       "      <td>29068.652000</td>\n",
       "      <td>1.009541e+08</td>\n",
       "      <td>11.510000</td>\n",
       "    </tr>\n",
       "  </tbody>\n",
       "</table>\n",
       "</div>"
      ],
      "text/plain": [
       "       Com­ments ad­ded        Shares    Dis­likes          Likes  \\\n",
       "count        224.000000    224.000000   224.000000     224.000000   \n",
       "mean         126.750000    353.924107    34.839286    2008.919643   \n",
       "std          948.732371   2736.321694   268.668317   15387.274015   \n",
       "min            0.000000      0.000000     0.000000       1.000000   \n",
       "25%           18.000000     19.000000     1.000000     163.500000   \n",
       "50%           37.000000     46.500000     4.000000     342.500000   \n",
       "75%           66.250000    114.250000    11.000000     716.000000   \n",
       "max        14197.000000  39640.000000  3902.000000  225021.000000   \n",
       "\n",
       "       Sub­scribers lost  Sub­scribers gained   RPM (USD)   CPM (USD)  \\\n",
       "count         224.000000           224.000000  224.000000  222.000000   \n",
       "mean          217.620536          1608.084821    4.442040   11.442779   \n",
       "std          3058.766918         15628.834115    1.789148    3.334781   \n",
       "min             0.000000             0.000000    0.000000    5.439000   \n",
       "25%             2.000000            27.000000    3.220750    9.379500   \n",
       "50%             7.000000            70.000000    4.334500   11.169500   \n",
       "75%            14.000000           245.500000    5.372250   12.901000   \n",
       "max         45790.000000        229241.000000   10.387000   37.786000   \n",
       "\n",
       "       Av­er­age per­cent­age viewed (%)         Views  Watch time (hours)  \\\n",
       "count                         224.000000  2.240000e+02          224.000000   \n",
       "mean                           34.087277  4.971645e+04         2835.711522   \n",
       "std                            15.118746  3.810302e+05        21662.566897   \n",
       "min                             5.230000  6.000000e+01            1.068400   \n",
       "25%                            23.602500  3.940000e+03          177.037125   \n",
       "50%                            35.120000  8.347500e+03          397.852200   \n",
       "75%                            43.462500  1.836875e+04         1145.621400   \n",
       "max                            76.600000  5.568487e+06       317602.353600   \n",
       "\n",
       "        Sub­scribers  Your es­tim­ated rev­en­ue (USD)  Im­pres­sions  \\\n",
       "count     224.000000                        224.000000   2.240000e+02   \n",
       "mean     1390.464286                        259.537433   9.013573e+05   \n",
       "std     12647.246927                       2011.119492   6.967916e+06   \n",
       "min       -21.000000                          0.000000   3.650000e+02   \n",
       "25%        19.750000                         12.208250   9.947100e+04   \n",
       "50%        62.500000                         32.595500   1.541925e+05   \n",
       "75%       230.500000                         96.814750   2.894885e+05   \n",
       "max    183451.000000                      29068.652000   1.009541e+08   \n",
       "\n",
       "       Im­pres­sions click-through rate (%)  \n",
       "count                            224.000000  \n",
       "mean                               3.084152  \n",
       "std                                1.670448  \n",
       "min                                0.490000  \n",
       "25%                                1.925000  \n",
       "50%                                2.895000  \n",
       "75%                                3.975000  \n",
       "max                               11.510000  "
      ]
     },
     "execution_count": 15,
     "metadata": {},
     "output_type": "execute_result"
    }
   ],
   "source": [
    "df_agg.describe()"
   ]
  },
  {
   "cell_type": "code",
   "execution_count": 16,
   "metadata": {},
   "outputs": [
    {
     "data": {
      "text/plain": [
       "<AxesSubplot:>"
      ]
     },
     "execution_count": 16,
     "metadata": {},
     "output_type": "execute_result"
    },
    {
     "data": {
      "image/png": "[encoded data removed]",
      "text/plain": [
       "<Figure size 432x288 with 1 Axes>"
      ]
     },
     "metadata": {
      "needs_background": "light"
     },
     "output_type": "display_data"
    }
   ],
   "source": [
    "df_agg.Likes.hist(bins=100)"
   ]
  },
  {
   "cell_type": "code",
   "execution_count": 17,
   "metadata": {},
   "outputs": [
    {
     "data": {
      "text/plain": [
       "(array([222.,   0.,   1.,   0.,   0.,   0.,   0.,   0.,   0.,   1.]),\n",
       " array([1.00000e+00, 2.25030e+04, 4.50050e+04, 6.75070e+04, 9.00090e+04,\n",
       "        1.12511e+05, 1.35013e+05, 1.57515e+05, 1.80017e+05, 2.02519e+05,\n",
       "        2.25021e+05]),\n",
       " <BarContainer object of 10 artists>)"
      ]
     },
     "execution_count": 17,
     "metadata": {},
     "output_type": "execute_result"
    },
    {
     "data": {
      "image/png": "[encoded data removed]",
      "text/plain": [
       "<Figure size 432x288 with 1 Axes>"
      ]
     },
     "metadata": {
      "needs_background": "light"
     },
     "output_type": "display_data"
    }
   ],
   "source": [
    "plt.hist(df_agg.Likes)"
   ]
  },
  {
   "cell_type": "code",
   "execution_count": 18,
   "metadata": {},
   "outputs": [
    {
     "data": {
      "text/plain": [
       "{'whiskers': [<matplotlib.lines.Line2D at 0x20b5de71070>,\n",
       "  <matplotlib.lines.Line2D at 0x20b5de71400>],\n",
       " 'caps': [<matplotlib.lines.Line2D at 0x20b5de71790>,\n",
       "  <matplotlib.lines.Line2D at 0x20b5de71b20>],\n",
       " 'boxes': [<matplotlib.lines.Line2D at 0x20b5de63ca0>],\n",
       " 'medians': [<matplotlib.lines.Line2D at 0x20b5de71eb0>],\n",
       " 'fliers': [<matplotlib.lines.Line2D at 0x20b5de7b280>],\n",
       " 'means': []}"
      ]
     },
     "execution_count": 18,
     "metadata": {},
     "output_type": "execute_result"
    },
    {
     "data": {
      "image/png": "[encoded data removed]",
      "text/plain": [
       "<Figure size 432x288 with 1 Axes>"
      ]
     },
     "metadata": {
      "needs_background": "light"
     },
     "output_type": "display_data"
    }
   ],
   "source": [
    "plt.boxplot(df_agg.Likes)"
   ]
  },
  {
   "cell_type": "code",
   "execution_count": 19,
   "metadata": {},
   "outputs": [
    {
     "data": {
      "text/plain": [
       "<AxesSubplot:>"
      ]
     },
     "execution_count": 19,
     "metadata": {},
     "output_type": "execute_result"
    },
    {
     "data": {
      "image/png": "[encoded data removed]",
      "text/plain": [
       "<Figure size 432x288 with 1 Axes>"
      ]
     },
     "metadata": {
      "needs_background": "light"
     },
     "output_type": "display_data"
    }
   ],
   "source": [
    "bins = pd.IntervalIndex.from_tuples([(0,100),(100,1000),(1000,float(\"inf\"))])\n",
    "df_agg['rev_buckets'] = pd.cut(df_agg[ 'Your es­tim­ated rev­en­ue (USD)'],bins)\n",
    "\n",
    "rev_values = df_agg['rev_buckets'].value_counts()\n",
    "rev_values.plot.bar()"
   ]
  },
  {
   "cell_type": "code",
   "execution_count": 20,
   "metadata": {},
   "outputs": [
    {
     "data": {
      "text/plain": [
       "Index(['Video', 'Video title', 'Video pub­lish time', 'Com­ments ad­ded',\n",
       "       'Shares', 'Dis­likes', 'Likes', 'Sub­scribers lost',\n",
       "       'Sub­scribers gained', 'RPM (USD)', 'CPM (USD)',\n",
       "       'Av­er­age per­cent­age viewed (%)', 'Av­er­age view dur­a­tion',\n",
       "       'Views', 'Watch time (hours)', 'Sub­scribers',\n",
       "       'Your es­tim­ated rev­en­ue (USD)', 'Im­pres­sions',\n",
       "       'Im­pres­sions click-through rate (%)', 'rev_buckets'],\n",
       "      dtype='object')"
      ]
     },
     "execution_count": 20,
     "metadata": {},
     "output_type": "execute_result"
    }
   ],
   "source": [
    "df_agg.columns"
   ]
  },
  {
   "cell_type": "code",
   "execution_count": 21,
   "metadata": {},
   "outputs": [
    {
     "data": {
      "text/plain": [
       "<matplotlib.collections.PathCollection at 0x20b5df51d30>"
      ]
     },
     "execution_count": 21,
     "metadata": {},
     "output_type": "execute_result"
    },
    {
     "data": {
      "image/png": "[encoded data removed]",
      "text/plain": [
       "<Figure size 432x288 with 1 Axes>"
      ]
     },
     "metadata": {
      "needs_background": "light"
     },
     "output_type": "display_data"
    }
   ],
   "source": [
    "# EDA Multivariate \n",
    "\n",
    "plt.scatter(df_agg['Av­er­age per­cent­age viewed (%)'],df_agg['CPM (USD)'])"
   ]
  },
  {
   "cell_type": "code",
   "execution_count": 22,
   "metadata": {},
   "outputs": [
    {
     "data": {
      "text/plain": [
       "<AxesSubplot:xlabel='Av\\xader\\xadage per\\xadcent\\xadage viewed (%)', ylabel='CPM (USD)'>"
      ]
     },
     "execution_count": 22,
     "metadata": {},
     "output_type": "execute_result"
    },
    {
     "data": {
      "image/png": "[encoded data removed]",
      "text/plain": [
       "<Figure size 432x288 with 1 Axes>"
      ]
     },
     "metadata": {
      "needs_background": "light"
     },
     "output_type": "display_data"
    }
   ],
   "source": [
    "sns.regplot(x='Av­er­age per­cent­age viewed (%)',y='CPM (USD)',data=df_agg)"
   ]
  },
  {
   "cell_type": "code",
   "execution_count": 23,
   "metadata": {},
   "outputs": [
    {
     "data": {
      "text/plain": [
       "<AxesSubplot:>"
      ]
     },
     "execution_count": 23,
     "metadata": {},
     "output_type": "execute_result"
    },
    {
     "data": {
      "image/png": "[encoded data removed]",
      "text/plain": [
       "<Figure size 432x288 with 2 Axes>"
      ]
     },
     "metadata": {
      "needs_background": "light"
     },
     "output_type": "display_data"
    }
   ],
   "source": [
    "corr = df_agg.corr()\n",
    "\n",
    "sns.heatmap(corr)"
   ]
  },
  {
   "cell_type": "code",
   "execution_count": 24,
   "metadata": {},
   "outputs": [
    {
     "data": {
      "text/plain": [
       "<AxesSubplot:>"
      ]
     },
     "execution_count": 24,
     "metadata": {},
     "output_type": "execute_result"
    },
    {
     "data": {
      "image/png": "[encoded data removed]",
      "text/plain": [
       "<Figure size 1080x720 with 2 Axes>"
      ]
     },
     "metadata": {},
     "output_type": "display_data"
    }
   ],
   "source": [
    "sns.set_theme(style='white')\n",
    "corr = df_agg.corr()\n",
    "mask = np.triu(np.ones_like(corr,dtype=bool))\n",
    "f, ax = plt.subplots(figsize=(15,10))\n",
    "cmap = sns.diverging_palette(230,20,as_cmap=True)\n",
    "sns.heatmap(\n",
    "    corr,\n",
    "    mask=mask,\n",
    "    cmap=cmap,\n",
    "    center=0,\n",
    "    square=True,\n",
    "    linewidths=5,\n",
    "    cbar_kws={'shrink':.5},\n",
    "    annot=True,\n",
    "    annot_kws={'fontsize':8}\n",
    ")"
   ]
  },
  {
   "cell_type": "code",
   "execution_count": 25,
   "metadata": {},
   "outputs": [],
   "source": [
    "# pd.pivot_table(\n",
    "#     df_agg_country_sub,\n",
    "#     index='Country Code',\n",
    "#     values = 'Av­er­age per­cent­age viewed (%)'\n",
    "# )"
   ]
  },
  {
   "cell_type": "code",
   "execution_count": 26,
   "metadata": {},
   "outputs": [],
   "source": [
    "df_ts['Date'] = pd.to_datetime(df_ts['Date'])"
   ]
  },
  {
   "cell_type": "code",
   "execution_count": 27,
   "metadata": {},
   "outputs": [
    {
     "data": {
      "text/plain": [
       "0        2022-01-19\n",
       "1        2022-01-19\n",
       "2        2022-01-19\n",
       "3        2022-01-19\n",
       "4        2022-01-19\n",
       "            ...    \n",
       "111852   2017-11-21\n",
       "111853   2017-11-20\n",
       "111854   2017-11-19\n",
       "111855   2017-11-18\n",
       "111856   2017-11-01\n",
       "Name: Date, Length: 111857, dtype: datetime64[ns]"
      ]
     },
     "execution_count": 27,
     "metadata": {},
     "output_type": "execute_result"
    }
   ],
   "source": [
    "df_ts['Date']"
   ]
  },
  {
   "cell_type": "code",
   "execution_count": 28,
   "metadata": {},
   "outputs": [
    {
     "data": {
      "text/plain": [
       "0        2022-01-01\n",
       "1        2022-01-01\n",
       "2        2022-01-01\n",
       "3        2022-01-01\n",
       "4        2022-01-01\n",
       "            ...    \n",
       "111852   2017-11-01\n",
       "111853   2017-11-01\n",
       "111854   2017-11-01\n",
       "111855   2017-11-01\n",
       "111856   2017-11-01\n",
       "Name: Date, Length: 111857, dtype: datetime64[ns]"
      ]
     },
     "execution_count": 28,
     "metadata": {},
     "output_type": "execute_result"
    }
   ],
   "source": [
    "df_ts['Date'].apply(lambda x: x.replace(day=1))"
   ]
  },
  {
   "cell_type": "markdown",
   "metadata": {},
   "source": [
    "# Feature Engineering : categorical features encoding techniques:\n",
    "\n",
    "* one hot encoding\n",
    "* ordinal encoding\n",
    "* frequency encoding\n",
    "* target encoding\n",
    "* probability ratio encoding\n",
    "* weight of evidence encoder\n",
    "* binning"
   ]
  },
  {
   "cell_type": "code",
   "execution_count": 29,
   "metadata": {},
   "outputs": [],
   "source": [
    "from sklearn.model_selection import train_test_split"
   ]
  },
  {
   "cell_type": "code",
   "execution_count": 30,
   "metadata": {},
   "outputs": [],
   "source": [
    "df = pd.read_csv('./7_feature_engineering/7_1_categorical_features/airbnb_dataset_ml_process.csv')"
   ]
  },
  {
   "cell_type": "code",
   "execution_count": 31,
   "metadata": {},
   "outputs": [],
   "source": [
    "df.replace([np.inf,-np.inf],np.nan,inplace=True)\n",
    "df = df.dropna()\n",
    "df_ = df.copy()"
   ]
  },
  {
   "cell_type": "code",
   "execution_count": 32,
   "metadata": {},
   "outputs": [],
   "source": [
    "X = df_.drop(['price'],axis=1)\n",
    "y = df_.copy()['price']\n",
    "\n",
    "X_train, X_test, y_train, y_test = train_test_split(X,y,test_size=0.33,random_state=42)"
   ]
  },
  {
   "cell_type": "code",
   "execution_count": 33,
   "metadata": {},
   "outputs": [],
   "source": [
    "# 2 class categorical variable\n",
    "dummies = pd.get_dummies(df['expensive'])\n",
    "hot_encoded_single_df = pd.concat([df,dummies],axis=1)\n",
    "\n",
    "X = hot_encoded_single_df.drop(['price'],axis=1)\n",
    "y = hot_encoded_single_df['price']\n",
    "\n",
    "X_train_dummy, X_test_dummy, y_train_dummy, y_test_dummy = train_test_split(X,y,test_size=0.33,random_state=42)"
   ]
  },
  {
   "cell_type": "code",
   "execution_count": 35,
   "metadata": {},
   "outputs": [
    {
     "data": {
      "text/html": [
       "<div>\n",
       "<style scoped>\n",
       "    .dataframe tbody tr th:only-of-type {\n",
       "        vertical-align: middle;\n",
       "    }\n",
       "\n",
       "    .dataframe tbody tr th {\n",
       "        vertical-align: top;\n",
       "    }\n",
       "\n",
       "    .dataframe thead th {\n",
       "        text-align: right;\n",
       "    }\n",
       "</style>\n",
       "<table border=\"1\" class=\"dataframe\">\n",
       "  <thead>\n",
       "    <tr style=\"text-align: right;\">\n",
       "      <th></th>\n",
       "      <th>Allerton</th>\n",
       "      <th>Arden Heights</th>\n",
       "      <th>Arrochar</th>\n",
       "      <th>Arverne</th>\n",
       "      <th>Astoria</th>\n",
       "      <th>Bath Beach</th>\n",
       "      <th>Battery Park City</th>\n",
       "      <th>Bay Ridge</th>\n",
       "      <th>Bay Terrace</th>\n",
       "      <th>Bay Terrace, Staten Island</th>\n",
       "      <th>...</th>\n",
       "      <th>Westchester Square</th>\n",
       "      <th>Westerleigh</th>\n",
       "      <th>Whitestone</th>\n",
       "      <th>Williamsbridge</th>\n",
       "      <th>Williamsburg</th>\n",
       "      <th>Willowbrook</th>\n",
       "      <th>Windsor Terrace</th>\n",
       "      <th>Woodhaven</th>\n",
       "      <th>Woodlawn</th>\n",
       "      <th>Woodside</th>\n",
       "    </tr>\n",
       "  </thead>\n",
       "  <tbody>\n",
       "    <tr>\n",
       "      <th>0</th>\n",
       "      <td>0</td>\n",
       "      <td>0</td>\n",
       "      <td>0</td>\n",
       "      <td>0</td>\n",
       "      <td>0</td>\n",
       "      <td>0</td>\n",
       "      <td>0</td>\n",
       "      <td>0</td>\n",
       "      <td>0</td>\n",
       "      <td>0</td>\n",
       "      <td>...</td>\n",
       "      <td>0</td>\n",
       "      <td>0</td>\n",
       "      <td>0</td>\n",
       "      <td>0</td>\n",
       "      <td>0</td>\n",
       "      <td>0</td>\n",
       "      <td>0</td>\n",
       "      <td>0</td>\n",
       "      <td>0</td>\n",
       "      <td>0</td>\n",
       "    </tr>\n",
       "    <tr>\n",
       "      <th>1</th>\n",
       "      <td>0</td>\n",
       "      <td>0</td>\n",
       "      <td>0</td>\n",
       "      <td>0</td>\n",
       "      <td>0</td>\n",
       "      <td>0</td>\n",
       "      <td>0</td>\n",
       "      <td>0</td>\n",
       "      <td>0</td>\n",
       "      <td>0</td>\n",
       "      <td>...</td>\n",
       "      <td>0</td>\n",
       "      <td>0</td>\n",
       "      <td>0</td>\n",
       "      <td>0</td>\n",
       "      <td>0</td>\n",
       "      <td>0</td>\n",
       "      <td>0</td>\n",
       "      <td>0</td>\n",
       "      <td>0</td>\n",
       "      <td>0</td>\n",
       "    </tr>\n",
       "    <tr>\n",
       "      <th>3</th>\n",
       "      <td>0</td>\n",
       "      <td>0</td>\n",
       "      <td>0</td>\n",
       "      <td>0</td>\n",
       "      <td>0</td>\n",
       "      <td>0</td>\n",
       "      <td>0</td>\n",
       "      <td>0</td>\n",
       "      <td>0</td>\n",
       "      <td>0</td>\n",
       "      <td>...</td>\n",
       "      <td>0</td>\n",
       "      <td>0</td>\n",
       "      <td>0</td>\n",
       "      <td>0</td>\n",
       "      <td>0</td>\n",
       "      <td>0</td>\n",
       "      <td>0</td>\n",
       "      <td>0</td>\n",
       "      <td>0</td>\n",
       "      <td>0</td>\n",
       "    </tr>\n",
       "    <tr>\n",
       "      <th>4</th>\n",
       "      <td>0</td>\n",
       "      <td>0</td>\n",
       "      <td>0</td>\n",
       "      <td>0</td>\n",
       "      <td>0</td>\n",
       "      <td>0</td>\n",
       "      <td>0</td>\n",
       "      <td>0</td>\n",
       "      <td>0</td>\n",
       "      <td>0</td>\n",
       "      <td>...</td>\n",
       "      <td>0</td>\n",
       "      <td>0</td>\n",
       "      <td>0</td>\n",
       "      <td>0</td>\n",
       "      <td>0</td>\n",
       "      <td>0</td>\n",
       "      <td>0</td>\n",
       "      <td>0</td>\n",
       "      <td>0</td>\n",
       "      <td>0</td>\n",
       "    </tr>\n",
       "    <tr>\n",
       "      <th>5</th>\n",
       "      <td>0</td>\n",
       "      <td>0</td>\n",
       "      <td>0</td>\n",
       "      <td>0</td>\n",
       "      <td>0</td>\n",
       "      <td>0</td>\n",
       "      <td>0</td>\n",
       "      <td>0</td>\n",
       "      <td>0</td>\n",
       "      <td>0</td>\n",
       "      <td>...</td>\n",
       "      <td>0</td>\n",
       "      <td>0</td>\n",
       "      <td>0</td>\n",
       "      <td>0</td>\n",
       "      <td>0</td>\n",
       "      <td>0</td>\n",
       "      <td>0</td>\n",
       "      <td>0</td>\n",
       "      <td>0</td>\n",
       "      <td>0</td>\n",
       "    </tr>\n",
       "    <tr>\n",
       "      <th>...</th>\n",
       "      <td>...</td>\n",
       "      <td>...</td>\n",
       "      <td>...</td>\n",
       "      <td>...</td>\n",
       "      <td>...</td>\n",
       "      <td>...</td>\n",
       "      <td>...</td>\n",
       "      <td>...</td>\n",
       "      <td>...</td>\n",
       "      <td>...</td>\n",
       "      <td>...</td>\n",
       "      <td>...</td>\n",
       "      <td>...</td>\n",
       "      <td>...</td>\n",
       "      <td>...</td>\n",
       "      <td>...</td>\n",
       "      <td>...</td>\n",
       "      <td>...</td>\n",
       "      <td>...</td>\n",
       "      <td>...</td>\n",
       "      <td>...</td>\n",
       "    </tr>\n",
       "    <tr>\n",
       "      <th>48782</th>\n",
       "      <td>0</td>\n",
       "      <td>0</td>\n",
       "      <td>0</td>\n",
       "      <td>0</td>\n",
       "      <td>0</td>\n",
       "      <td>0</td>\n",
       "      <td>0</td>\n",
       "      <td>0</td>\n",
       "      <td>0</td>\n",
       "      <td>0</td>\n",
       "      <td>...</td>\n",
       "      <td>0</td>\n",
       "      <td>0</td>\n",
       "      <td>0</td>\n",
       "      <td>0</td>\n",
       "      <td>0</td>\n",
       "      <td>0</td>\n",
       "      <td>0</td>\n",
       "      <td>0</td>\n",
       "      <td>0</td>\n",
       "      <td>0</td>\n",
       "    </tr>\n",
       "    <tr>\n",
       "      <th>48790</th>\n",
       "      <td>0</td>\n",
       "      <td>0</td>\n",
       "      <td>0</td>\n",
       "      <td>0</td>\n",
       "      <td>0</td>\n",
       "      <td>0</td>\n",
       "      <td>0</td>\n",
       "      <td>0</td>\n",
       "      <td>0</td>\n",
       "      <td>0</td>\n",
       "      <td>...</td>\n",
       "      <td>0</td>\n",
       "      <td>0</td>\n",
       "      <td>0</td>\n",
       "      <td>0</td>\n",
       "      <td>0</td>\n",
       "      <td>0</td>\n",
       "      <td>0</td>\n",
       "      <td>0</td>\n",
       "      <td>0</td>\n",
       "      <td>0</td>\n",
       "    </tr>\n",
       "    <tr>\n",
       "      <th>48799</th>\n",
       "      <td>0</td>\n",
       "      <td>0</td>\n",
       "      <td>0</td>\n",
       "      <td>0</td>\n",
       "      <td>0</td>\n",
       "      <td>0</td>\n",
       "      <td>0</td>\n",
       "      <td>0</td>\n",
       "      <td>0</td>\n",
       "      <td>0</td>\n",
       "      <td>...</td>\n",
       "      <td>0</td>\n",
       "      <td>0</td>\n",
       "      <td>0</td>\n",
       "      <td>0</td>\n",
       "      <td>0</td>\n",
       "      <td>0</td>\n",
       "      <td>0</td>\n",
       "      <td>0</td>\n",
       "      <td>0</td>\n",
       "      <td>0</td>\n",
       "    </tr>\n",
       "    <tr>\n",
       "      <th>48805</th>\n",
       "      <td>0</td>\n",
       "      <td>0</td>\n",
       "      <td>0</td>\n",
       "      <td>0</td>\n",
       "      <td>0</td>\n",
       "      <td>0</td>\n",
       "      <td>0</td>\n",
       "      <td>0</td>\n",
       "      <td>0</td>\n",
       "      <td>0</td>\n",
       "      <td>...</td>\n",
       "      <td>0</td>\n",
       "      <td>0</td>\n",
       "      <td>0</td>\n",
       "      <td>0</td>\n",
       "      <td>0</td>\n",
       "      <td>0</td>\n",
       "      <td>0</td>\n",
       "      <td>0</td>\n",
       "      <td>0</td>\n",
       "      <td>0</td>\n",
       "    </tr>\n",
       "    <tr>\n",
       "      <th>48852</th>\n",
       "      <td>0</td>\n",
       "      <td>0</td>\n",
       "      <td>0</td>\n",
       "      <td>0</td>\n",
       "      <td>0</td>\n",
       "      <td>0</td>\n",
       "      <td>0</td>\n",
       "      <td>0</td>\n",
       "      <td>0</td>\n",
       "      <td>0</td>\n",
       "      <td>...</td>\n",
       "      <td>0</td>\n",
       "      <td>0</td>\n",
       "      <td>0</td>\n",
       "      <td>0</td>\n",
       "      <td>0</td>\n",
       "      <td>0</td>\n",
       "      <td>0</td>\n",
       "      <td>0</td>\n",
       "      <td>0</td>\n",
       "      <td>0</td>\n",
       "    </tr>\n",
       "  </tbody>\n",
       "</table>\n",
       "<p>38821 rows × 218 columns</p>\n",
       "</div>"
      ],
      "text/plain": [
       "       Allerton  Arden Heights  Arrochar  Arverne  Astoria  Bath Beach  \\\n",
       "0             0              0         0        0        0           0   \n",
       "1             0              0         0        0        0           0   \n",
       "3             0              0         0        0        0           0   \n",
       "4             0              0         0        0        0           0   \n",
       "5             0              0         0        0        0           0   \n",
       "...         ...            ...       ...      ...      ...         ...   \n",
       "48782         0              0         0        0        0           0   \n",
       "48790         0              0         0        0        0           0   \n",
       "48799         0              0         0        0        0           0   \n",
       "48805         0              0         0        0        0           0   \n",
       "48852         0              0         0        0        0           0   \n",
       "\n",
       "       Battery Park City  Bay Ridge  Bay Terrace  Bay Terrace, Staten Island  \\\n",
       "0                      0          0            0                           0   \n",
       "1                      0          0            0                           0   \n",
       "3                      0          0            0                           0   \n",
       "4                      0          0            0                           0   \n",
       "5                      0          0            0                           0   \n",
       "...                  ...        ...          ...                         ...   \n",
       "48782                  0          0            0                           0   \n",
       "48790                  0          0            0                           0   \n",
       "48799                  0          0            0                           0   \n",
       "48805                  0          0            0                           0   \n",
       "48852                  0          0            0                           0   \n",
       "\n",
       "       ...  Westchester Square  Westerleigh  Whitestone  Williamsbridge  \\\n",
       "0      ...                   0            0           0               0   \n",
       "1      ...                   0            0           0               0   \n",
       "3      ...                   0            0           0               0   \n",
       "4      ...                   0            0           0               0   \n",
       "5      ...                   0            0           0               0   \n",
       "...    ...                 ...          ...         ...             ...   \n",
       "48782  ...                   0            0           0               0   \n",
       "48790  ...                   0            0           0               0   \n",
       "48799  ...                   0            0           0               0   \n",
       "48805  ...                   0            0           0               0   \n",
       "48852  ...                   0            0           0               0   \n",
       "\n",
       "       Williamsburg  Willowbrook  Windsor Terrace  Woodhaven  Woodlawn  \\\n",
       "0                 0            0                0          0         0   \n",
       "1                 0            0                0          0         0   \n",
       "3                 0            0                0          0         0   \n",
       "4                 0            0                0          0         0   \n",
       "5                 0            0                0          0         0   \n",
       "...             ...          ...              ...        ...       ...   \n",
       "48782             0            0                0          0         0   \n",
       "48790             0            0                0          0         0   \n",
       "48799             0            0                0          0         0   \n",
       "48805             0            0                0          0         0   \n",
       "48852             0            0                0          0         0   \n",
       "\n",
       "       Woodside  \n",
       "0             0  \n",
       "1             0  \n",
       "3             0  \n",
       "4             0  \n",
       "5             0  \n",
       "...         ...  \n",
       "48782         0  \n",
       "48790         0  \n",
       "48799         0  \n",
       "48805         0  \n",
       "48852         0  \n",
       "\n",
       "[38821 rows x 218 columns]"
      ]
     },
     "execution_count": 35,
     "metadata": {},
     "output_type": "execute_result"
    }
   ],
   "source": [
    "# multiple categorical variable\n",
    "# high cardinality , too many categorical variable\n",
    "mult_hot_enc = pd.get_dummies(df['neighbourhood'])\n",
    "hot_encoded_df = pd.concat([df,mult_hot_enc],axis=1)\n",
    "mult_hot_enc"
   ]
  },
  {
   "cell_type": "code",
   "execution_count": 36,
   "metadata": {},
   "outputs": [],
   "source": [
    "X_train_me, X_test_me, y_train_me, y_test_me = train_test_split(\n",
    "    X,y,\n",
    "    test_size=0.33,\n",
    "    random_state=42\n",
    ")"
   ]
  },
  {
   "cell_type": "code",
   "execution_count": 38,
   "metadata": {},
   "outputs": [],
   "source": [
    "# ordinal coding \n",
    "df_ord = df.copy()\n",
    "\n",
    "ord_encodings = {\n",
    "    'Entire home/apt':0,\n",
    "    'Private room':1,\n",
    "    'Shared room':2\n",
    "}\n",
    "\n",
    "df_ord['room_type_ord_enc'] = df_ord['room_type'].map(ord_encodings)\n",
    "\n",
    "X = df_ord.drop(['price'],axis=1)\n",
    "y = df_ord['price']\n",
    "\n",
    "X_train_me, x_test_me, y_train_me, y_test_me = train_test_split(X,y,test_size=0.33,random_state=42)"
   ]
  },
  {
   "cell_type": "code",
   "execution_count": 39,
   "metadata": {},
   "outputs": [
    {
     "data": {
      "text/plain": [
       "neighbourhood\n",
       "Allerton            25\n",
       "Arden Heights        4\n",
       "Arrochar            14\n",
       "Arverne             43\n",
       "Astoria            480\n",
       "                  ... \n",
       "Willowbrook          1\n",
       "Windsor Terrace     79\n",
       "Woodhaven           44\n",
       "Woodlawn             8\n",
       "Woodside           119\n",
       "Length: 215, dtype: int64"
      ]
     },
     "execution_count": 39,
     "metadata": {},
     "output_type": "execute_result"
    }
   ],
   "source": [
    "# frequency encoding\n",
    "#  to address cardinality issues\n",
    "\n",
    "frequency_encoder = X_train.groupby(['neighbourhood']).size()\n",
    "frequency_encoder"
   ]
  },
  {
   "cell_type": "code",
   "execution_count": 42,
   "metadata": {},
   "outputs": [],
   "source": [
    "X_test['neighbourhood'] = X_test['neighbourhood'].map(frequency_encoder)"
   ]
  },
  {
   "cell_type": "code",
   "execution_count": 46,
   "metadata": {},
   "outputs": [
    {
     "data": {
      "text/plain": [
       "neighbourhood\n",
       "Allerton            90.594595\n",
       "Arden Heights       67.250000\n",
       "Arrochar           118.250000\n",
       "Arverne            158.515152\n",
       "Astoria            116.018336\n",
       "                      ...    \n",
       "Willowbrook        249.000000\n",
       "Windsor Terrace    130.687500\n",
       "Woodhaven           62.722222\n",
       "Woodlawn            60.090909\n",
       "Woodside            89.852941\n",
       "Name: price, Length: 218, dtype: float64"
      ]
     },
     "execution_count": 46,
     "metadata": {},
     "output_type": "execute_result"
    }
   ],
   "source": [
    "# target encoding\n",
    "df.groupby(['neighbourhood'])['price'].mean()"
   ]
  },
  {
   "cell_type": "code",
   "execution_count": null,
   "metadata": {},
   "outputs": [],
   "source": [
    "df_te = df.copy()"
   ]
  },
  {
   "cell_type": "code",
   "execution_count": null,
   "metadata": {},
   "outputs": [],
   "source": [
    "# scaling data \n",
    "# 1.normalization absolute max \n",
    "# 2.minmax \n",
    "\n"
   ]
  },
  {
   "cell_type": "code",
   "execution_count": null,
   "metadata": {},
   "outputs": [],
   "source": [
    "# cross validation\n",
    "# 1, train test split\n",
    "# 2 leave one out \n",
    "#3 k-fold\n",
    "#4 date split\n",
    "#5 time series split\n",
    "#6 expanding window\n",
    "#7 monte carlo "
   ]
  },
  {
   "cell_type": "code",
   "execution_count": 50,
   "metadata": {},
   "outputs": [],
   "source": [
    "df = pd.read_csv('./8_cross_validation/fraud_data.csv')"
   ]
  },
  {
   "cell_type": "code",
   "execution_count": 51,
   "metadata": {},
   "outputs": [
    {
     "data": {
      "text/plain": [
       "0.9377079051782052"
      ]
     },
     "execution_count": 51,
     "metadata": {},
     "output_type": "execute_result"
    }
   ],
   "source": [
    "# train test \n",
    "from sklearn.model_selection import train_test_split\n",
    "from sklearn.metrics import average_precision_score\n",
    "from sklearn.ensemble import RandomForestClassifier\n",
    "\n",
    "features = {\n",
    "    'amount',\n",
    "    'oldbalanceOrg',\n",
    "    'newbalanceOrig',\n",
    "    'oldbalanceDest',\n",
    "    'newbalanceDest'\n",
    "}\n",
    "\n",
    "X = df[features]\n",
    "y = df['isFraud']\n",
    "\n",
    "X_train, X_test, y_train, y_test = train_test_split(X,y,test_size=0.33,random_state=42)\n",
    "model = RandomForestClassifier()\n",
    "model.fit(X_train,y_train)\n",
    "y_preds = model.predict(X_test)\n",
    "average_precision_score(y_preds,y_test)\n",
    "\n",
    "\n",
    "\n"
   ]
  },
  {
   "cell_type": "code",
   "execution_count": 52,
   "metadata": {},
   "outputs": [],
   "source": [
    "# kfold \n",
    "\n",
    "from sklearn.model_selection import KFold\n",
    "from sklearn.metrics import average_precision_score\n",
    "\n",
    "kf = KFold(n_splits=2,shuffle=True,random_state=42)\n",
    "kf.get_n_splits(X)\n",
    "\n",
    "folds = {}\n",
    "scores = []\n",
    "\n",
    "for train,test in kf.split(X):\n",
    "    fold_number = 1\n",
    "    folds[fold_number] = (df.iloc[train],df.iloc[test])\n",
    "    X_train = df.iloc[train][features]\n",
    "    y_train = df.iloc[train]['isFraud']\n",
    "    \n",
    "    X_test = df.iloc[test][features]\n",
    "    y_test = df.iloc[test]['isFraud']\n",
    "    \n",
    "    model = RandomForestClassifier()\n",
    "    model.fit(X_train,y_train)\n",
    "    y_preds = model.predict(X_test)\n",
    "    \n",
    "    pr_auc = average_precision_score(y_preds,y_test)\n",
    "    scores.append(pr_auc)\n",
    "    \n",
    "    fold_number += 1\n",
    "    "
   ]
  },
  {
   "cell_type": "code",
   "execution_count": 54,
   "metadata": {},
   "outputs": [
    {
     "data": {
      "text/plain": [
       "[0.9176742178204589, 0.9195333437462982]"
      ]
     },
     "execution_count": 54,
     "metadata": {},
     "output_type": "execute_result"
    }
   ],
   "source": [
    "scores"
   ]
  },
  {
   "cell_type": "code",
   "execution_count": 53,
   "metadata": {},
   "outputs": [
    {
     "data": {
      "text/plain": [
       "0.9186037807833786"
      ]
     },
     "execution_count": 53,
     "metadata": {},
     "output_type": "execute_result"
    }
   ],
   "source": [
    "\n",
    "np.mean(scores)"
   ]
  },
  {
   "cell_type": "code",
   "execution_count": 56,
   "metadata": {},
   "outputs": [
    {
     "data": {
      "text/plain": [
       "0.9934665889560274"
      ]
     },
     "execution_count": 56,
     "metadata": {},
     "output_type": "execute_result"
    }
   ],
   "source": [
    "# cross val score \n",
    "\n",
    "from sklearn.model_selection import cross_val_score\n",
    "from sklearn.ensemble import RandomForestClassifier\n",
    "model = RandomForestClassifier()\n",
    "scores = cross_val_score(model,X,y,scoring='accuracy',cv=kf,n_jobs=-1)\n",
    "np.mean(scores)"
   ]
  },
  {
   "cell_type": "code",
   "execution_count": 58,
   "metadata": {},
   "outputs": [
    {
     "name": "stderr",
     "output_type": "stream",
     "text": [
      "c:\\Users\\dania\\AppData\\Local\\Programs\\Python\\Python39\\lib\\site-packages\\sklearn\\metrics\\_ranking.py:817: RuntimeWarning: invalid value encountered in true_divide\n",
      "  recall = tps / tps[-1]\n",
      "c:\\Users\\dania\\AppData\\Local\\Programs\\Python\\Python39\\lib\\site-packages\\sklearn\\metrics\\_ranking.py:817: RuntimeWarning: invalid value encountered in true_divide\n",
      "  recall = tps / tps[-1]\n"
     ]
    }
   ],
   "source": [
    "# time series split\n",
    "\n",
    "from sklearn.model_selection import TimeSeriesSplit\n",
    "tscv = TimeSeriesSplit(max_train_size=50000,n_splits=5)\n",
    "all_scores = []\n",
    "for train_index, test_index in tscv.split(X):\n",
    "    X_train, X_test = X.iloc[train_index],X.iloc[test_index]\n",
    "    y_train, y_test = y.iloc[train_index],y.iloc[test_index]\n",
    "    model = RandomForestClassifier()\n",
    "    model.fit(X_train,y_train)\n",
    "    y_preds = model.predict(X_test)\n",
    "    pr_auc = average_precision_score(y_preds,y_test)\n",
    "    all_scores.append(pr_auc)"
   ]
  },
  {
   "cell_type": "code",
   "execution_count": 59,
   "metadata": {},
   "outputs": [
    {
     "data": {
      "text/plain": [
       "[0.013030219018574993, 0.006542833379539784, 0.0031050734682561685, nan, nan]"
      ]
     },
     "execution_count": 59,
     "metadata": {},
     "output_type": "execute_result"
    }
   ],
   "source": [
    "all_scores"
   ]
  },
  {
   "cell_type": "markdown",
   "metadata": {},
   "source": [
    "feature selection"
   ]
  },
  {
   "cell_type": "code",
   "execution_count": 63,
   "metadata": {},
   "outputs": [],
   "source": [
    "df = pd.read_csv('./9_feature_selection/BankChurners.csv')"
   ]
  },
  {
   "cell_type": "code",
   "execution_count": 64,
   "metadata": {},
   "outputs": [
    {
     "name": "stdout",
     "output_type": "stream",
     "text": [
      " Volume in drive C has no label.\n",
      " Volume Serial Number is A8F7-A597\n",
      "\n",
      " Directory of c:\\Users\\dania\\code\\python\\py_ML_Process_Course_AZ\\11_modeling\n",
      "\n",
      "16-Nov-23  12:00 PM    <DIR>          .\n",
      "16-Nov-23  12:00 PM    <DIR>          ..\n",
      "16-Nov-23  12:00 PM           322,081 healthcare-dataset-stroke-data.csv\n",
      "16-Nov-23  12:00 PM            34,134 modeling-process-basics.ipynb\n",
      "               2 File(s)        356,215 bytes\n",
      "               2 Dir(s)  88,460,521,472 bytes free\n"
     ]
    }
   ],
   "source": [
    "ls 11_modeling"
   ]
  },
  {
   "cell_type": "code",
   "execution_count": 65,
   "metadata": {},
   "outputs": [],
   "source": [
    "df = pd.read_csv('./11_modeling/healthcare-dataset-stroke-data.csv')"
   ]
  },
  {
   "cell_type": "code",
   "execution_count": 66,
   "metadata": {},
   "outputs": [
    {
     "data": {
      "text/html": [
       "<div>\n",
       "<style scoped>\n",
       "    .dataframe tbody tr th:only-of-type {\n",
       "        vertical-align: middle;\n",
       "    }\n",
       "\n",
       "    .dataframe tbody tr th {\n",
       "        vertical-align: top;\n",
       "    }\n",
       "\n",
       "    .dataframe thead th {\n",
       "        text-align: right;\n",
       "    }\n",
       "</style>\n",
       "<table border=\"1\" class=\"dataframe\">\n",
       "  <thead>\n",
       "    <tr style=\"text-align: right;\">\n",
       "      <th></th>\n",
       "      <th>gender</th>\n",
       "      <th>ever_married</th>\n",
       "      <th>work_type</th>\n",
       "      <th>Residence_type</th>\n",
       "      <th>smoking_status</th>\n",
       "    </tr>\n",
       "  </thead>\n",
       "  <tbody>\n",
       "    <tr>\n",
       "      <th>count</th>\n",
       "      <td>5110</td>\n",
       "      <td>5110</td>\n",
       "      <td>5110</td>\n",
       "      <td>5110</td>\n",
       "      <td>5110</td>\n",
       "    </tr>\n",
       "    <tr>\n",
       "      <th>unique</th>\n",
       "      <td>3</td>\n",
       "      <td>2</td>\n",
       "      <td>5</td>\n",
       "      <td>2</td>\n",
       "      <td>4</td>\n",
       "    </tr>\n",
       "    <tr>\n",
       "      <th>top</th>\n",
       "      <td>Female</td>\n",
       "      <td>Yes</td>\n",
       "      <td>Private</td>\n",
       "      <td>Urban</td>\n",
       "      <td>never smoked</td>\n",
       "    </tr>\n",
       "    <tr>\n",
       "      <th>freq</th>\n",
       "      <td>2994</td>\n",
       "      <td>3353</td>\n",
       "      <td>2925</td>\n",
       "      <td>2596</td>\n",
       "      <td>1892</td>\n",
       "    </tr>\n",
       "  </tbody>\n",
       "</table>\n",
       "</div>"
      ],
      "text/plain": [
       "        gender ever_married work_type Residence_type smoking_status\n",
       "count     5110         5110      5110           5110           5110\n",
       "unique       3            2         5              2              4\n",
       "top     Female          Yes   Private          Urban   never smoked\n",
       "freq      2994         3353      2925           2596           1892"
      ]
     },
     "execution_count": 66,
     "metadata": {},
     "output_type": "execute_result"
    }
   ],
   "source": [
    "df.describe(include=np.object)"
   ]
  },
  {
   "cell_type": "code",
   "execution_count": 68,
   "metadata": {},
   "outputs": [
    {
     "ename": "KeyError",
     "evalue": "\"None of [Index(['Gender', 'Age', 'Driving_License', 'Previously_Insured', 'Vehicle_Age',\\n       'Vehicle_Damage', 'Annual_Premiun', 'Vintage', 'Response'],\\n      dtype='object')] are in the [columns]\"",
     "output_type": "error",
     "traceback": [
      "\u001b[1;31m---------------------------------------------------------------------------\u001b[0m",
      "\u001b[1;31mKeyError\u001b[0m                                  Traceback (most recent call last)",
      "\u001b[1;32m~\\AppData\\Local\\Temp/ipykernel_9468/1915049404.py\u001b[0m in \u001b[0;36m<module>\u001b[1;34m\u001b[0m\n\u001b[1;32m----> 1\u001b[1;33m df_trimmed = df.loc[:,\n\u001b[0m\u001b[0;32m      2\u001b[0m ['Gender','Age','Driving_License','Previously_Insured','Vehicle_Age','Vehicle_Damage','Annual_Premiun',\n\u001b[0;32m      3\u001b[0m  'Vintage','Response']\n\u001b[0;32m      4\u001b[0m ]\n",
      "\u001b[1;32mc:\\Users\\dania\\AppData\\Local\\Programs\\Python\\Python39\\lib\\site-packages\\pandas\\core\\indexing.py\u001b[0m in \u001b[0;36m__getitem__\u001b[1;34m(self, key)\u001b[0m\n\u001b[0;32m    887\u001b[0m                     \u001b[1;31m# AttributeError for IntervalTree get_value\u001b[0m\u001b[1;33m\u001b[0m\u001b[1;33m\u001b[0m\u001b[1;33m\u001b[0m\u001b[0m\n\u001b[0;32m    888\u001b[0m                     \u001b[1;32mreturn\u001b[0m \u001b[0mself\u001b[0m\u001b[1;33m.\u001b[0m\u001b[0mobj\u001b[0m\u001b[1;33m.\u001b[0m\u001b[0m_get_value\u001b[0m\u001b[1;33m(\u001b[0m\u001b[1;33m*\u001b[0m\u001b[0mkey\u001b[0m\u001b[1;33m,\u001b[0m \u001b[0mtakeable\u001b[0m\u001b[1;33m=\u001b[0m\u001b[0mself\u001b[0m\u001b[1;33m.\u001b[0m\u001b[0m_takeable\u001b[0m\u001b[1;33m)\u001b[0m\u001b[1;33m\u001b[0m\u001b[1;33m\u001b[0m\u001b[0m\n\u001b[1;32m--> 889\u001b[1;33m             \u001b[1;32mreturn\u001b[0m \u001b[0mself\u001b[0m\u001b[1;33m.\u001b[0m\u001b[0m_getitem_tuple\u001b[0m\u001b[1;33m(\u001b[0m\u001b[0mkey\u001b[0m\u001b[1;33m)\u001b[0m\u001b[1;33m\u001b[0m\u001b[1;33m\u001b[0m\u001b[0m\n\u001b[0m\u001b[0;32m    890\u001b[0m         \u001b[1;32melse\u001b[0m\u001b[1;33m:\u001b[0m\u001b[1;33m\u001b[0m\u001b[1;33m\u001b[0m\u001b[0m\n\u001b[0;32m    891\u001b[0m             \u001b[1;31m# we by definition only have the 0th axis\u001b[0m\u001b[1;33m\u001b[0m\u001b[1;33m\u001b[0m\u001b[1;33m\u001b[0m\u001b[0m\n",
      "\u001b[1;32mc:\\Users\\dania\\AppData\\Local\\Programs\\Python\\Python39\\lib\\site-packages\\pandas\\core\\indexing.py\u001b[0m in \u001b[0;36m_getitem_tuple\u001b[1;34m(self, tup)\u001b[0m\n\u001b[0;32m   1067\u001b[0m             \u001b[1;32mreturn\u001b[0m \u001b[0mself\u001b[0m\u001b[1;33m.\u001b[0m\u001b[0m_multi_take\u001b[0m\u001b[1;33m(\u001b[0m\u001b[0mtup\u001b[0m\u001b[1;33m)\u001b[0m\u001b[1;33m\u001b[0m\u001b[1;33m\u001b[0m\u001b[0m\n\u001b[0;32m   1068\u001b[0m \u001b[1;33m\u001b[0m\u001b[0m\n\u001b[1;32m-> 1069\u001b[1;33m         \u001b[1;32mreturn\u001b[0m \u001b[0mself\u001b[0m\u001b[1;33m.\u001b[0m\u001b[0m_getitem_tuple_same_dim\u001b[0m\u001b[1;33m(\u001b[0m\u001b[0mtup\u001b[0m\u001b[1;33m)\u001b[0m\u001b[1;33m\u001b[0m\u001b[1;33m\u001b[0m\u001b[0m\n\u001b[0m\u001b[0;32m   1070\u001b[0m \u001b[1;33m\u001b[0m\u001b[0m\n\u001b[0;32m   1071\u001b[0m     \u001b[1;32mdef\u001b[0m \u001b[0m_get_label\u001b[0m\u001b[1;33m(\u001b[0m\u001b[0mself\u001b[0m\u001b[1;33m,\u001b[0m \u001b[0mlabel\u001b[0m\u001b[1;33m,\u001b[0m \u001b[0maxis\u001b[0m\u001b[1;33m:\u001b[0m \u001b[0mint\u001b[0m\u001b[1;33m)\u001b[0m\u001b[1;33m:\u001b[0m\u001b[1;33m\u001b[0m\u001b[1;33m\u001b[0m\u001b[0m\n",
      "\u001b[1;32mc:\\Users\\dania\\AppData\\Local\\Programs\\Python\\Python39\\lib\\site-packages\\pandas\\core\\indexing.py\u001b[0m in \u001b[0;36m_getitem_tuple_same_dim\u001b[1;34m(self, tup)\u001b[0m\n\u001b[0;32m    773\u001b[0m                 \u001b[1;32mcontinue\u001b[0m\u001b[1;33m\u001b[0m\u001b[1;33m\u001b[0m\u001b[0m\n\u001b[0;32m    774\u001b[0m \u001b[1;33m\u001b[0m\u001b[0m\n\u001b[1;32m--> 775\u001b[1;33m             \u001b[0mretval\u001b[0m \u001b[1;33m=\u001b[0m \u001b[0mgetattr\u001b[0m\u001b[1;33m(\u001b[0m\u001b[0mretval\u001b[0m\u001b[1;33m,\u001b[0m \u001b[0mself\u001b[0m\u001b[1;33m.\u001b[0m\u001b[0mname\u001b[0m\u001b[1;33m)\u001b[0m\u001b[1;33m.\u001b[0m\u001b[0m_getitem_axis\u001b[0m\u001b[1;33m(\u001b[0m\u001b[0mkey\u001b[0m\u001b[1;33m,\u001b[0m \u001b[0maxis\u001b[0m\u001b[1;33m=\u001b[0m\u001b[0mi\u001b[0m\u001b[1;33m)\u001b[0m\u001b[1;33m\u001b[0m\u001b[1;33m\u001b[0m\u001b[0m\n\u001b[0m\u001b[0;32m    776\u001b[0m             \u001b[1;31m# We should never have retval.ndim < self.ndim, as that should\u001b[0m\u001b[1;33m\u001b[0m\u001b[1;33m\u001b[0m\u001b[1;33m\u001b[0m\u001b[0m\n\u001b[0;32m    777\u001b[0m             \u001b[1;31m#  be handled by the _getitem_lowerdim call above.\u001b[0m\u001b[1;33m\u001b[0m\u001b[1;33m\u001b[0m\u001b[1;33m\u001b[0m\u001b[0m\n",
      "\u001b[1;32mc:\\Users\\dania\\AppData\\Local\\Programs\\Python\\Python39\\lib\\site-packages\\pandas\\core\\indexing.py\u001b[0m in \u001b[0;36m_getitem_axis\u001b[1;34m(self, key, axis)\u001b[0m\n\u001b[0;32m   1111\u001b[0m                     \u001b[1;32mraise\u001b[0m \u001b[0mValueError\u001b[0m\u001b[1;33m(\u001b[0m\u001b[1;34m\"Cannot index with multidimensional key\"\u001b[0m\u001b[1;33m)\u001b[0m\u001b[1;33m\u001b[0m\u001b[1;33m\u001b[0m\u001b[0m\n\u001b[0;32m   1112\u001b[0m \u001b[1;33m\u001b[0m\u001b[0m\n\u001b[1;32m-> 1113\u001b[1;33m                 \u001b[1;32mreturn\u001b[0m \u001b[0mself\u001b[0m\u001b[1;33m.\u001b[0m\u001b[0m_getitem_iterable\u001b[0m\u001b[1;33m(\u001b[0m\u001b[0mkey\u001b[0m\u001b[1;33m,\u001b[0m \u001b[0maxis\u001b[0m\u001b[1;33m=\u001b[0m\u001b[0maxis\u001b[0m\u001b[1;33m)\u001b[0m\u001b[1;33m\u001b[0m\u001b[1;33m\u001b[0m\u001b[0m\n\u001b[0m\u001b[0;32m   1114\u001b[0m \u001b[1;33m\u001b[0m\u001b[0m\n\u001b[0;32m   1115\u001b[0m             \u001b[1;31m# nested tuple slicing\u001b[0m\u001b[1;33m\u001b[0m\u001b[1;33m\u001b[0m\u001b[1;33m\u001b[0m\u001b[0m\n",
      "\u001b[1;32mc:\\Users\\dania\\AppData\\Local\\Programs\\Python\\Python39\\lib\\site-packages\\pandas\\core\\indexing.py\u001b[0m in \u001b[0;36m_getitem_iterable\u001b[1;34m(self, key, axis)\u001b[0m\n\u001b[0;32m   1051\u001b[0m \u001b[1;33m\u001b[0m\u001b[0m\n\u001b[0;32m   1052\u001b[0m         \u001b[1;31m# A collection of keys\u001b[0m\u001b[1;33m\u001b[0m\u001b[1;33m\u001b[0m\u001b[1;33m\u001b[0m\u001b[0m\n\u001b[1;32m-> 1053\u001b[1;33m         \u001b[0mkeyarr\u001b[0m\u001b[1;33m,\u001b[0m \u001b[0mindexer\u001b[0m \u001b[1;33m=\u001b[0m \u001b[0mself\u001b[0m\u001b[1;33m.\u001b[0m\u001b[0m_get_listlike_indexer\u001b[0m\u001b[1;33m(\u001b[0m\u001b[0mkey\u001b[0m\u001b[1;33m,\u001b[0m \u001b[0maxis\u001b[0m\u001b[1;33m,\u001b[0m \u001b[0mraise_missing\u001b[0m\u001b[1;33m=\u001b[0m\u001b[1;32mFalse\u001b[0m\u001b[1;33m)\u001b[0m\u001b[1;33m\u001b[0m\u001b[1;33m\u001b[0m\u001b[0m\n\u001b[0m\u001b[0;32m   1054\u001b[0m         return self.obj._reindex_with_indexers(\n\u001b[0;32m   1055\u001b[0m             \u001b[1;33m{\u001b[0m\u001b[0maxis\u001b[0m\u001b[1;33m:\u001b[0m \u001b[1;33m[\u001b[0m\u001b[0mkeyarr\u001b[0m\u001b[1;33m,\u001b[0m \u001b[0mindexer\u001b[0m\u001b[1;33m]\u001b[0m\u001b[1;33m}\u001b[0m\u001b[1;33m,\u001b[0m \u001b[0mcopy\u001b[0m\u001b[1;33m=\u001b[0m\u001b[1;32mTrue\u001b[0m\u001b[1;33m,\u001b[0m \u001b[0mallow_dups\u001b[0m\u001b[1;33m=\u001b[0m\u001b[1;32mTrue\u001b[0m\u001b[1;33m\u001b[0m\u001b[1;33m\u001b[0m\u001b[0m\n",
      "\u001b[1;32mc:\\Users\\dania\\AppData\\Local\\Programs\\Python\\Python39\\lib\\site-packages\\pandas\\core\\indexing.py\u001b[0m in \u001b[0;36m_get_listlike_indexer\u001b[1;34m(self, key, axis, raise_missing)\u001b[0m\n\u001b[0;32m   1264\u001b[0m             \u001b[0mkeyarr\u001b[0m\u001b[1;33m,\u001b[0m \u001b[0mindexer\u001b[0m\u001b[1;33m,\u001b[0m \u001b[0mnew_indexer\u001b[0m \u001b[1;33m=\u001b[0m \u001b[0max\u001b[0m\u001b[1;33m.\u001b[0m\u001b[0m_reindex_non_unique\u001b[0m\u001b[1;33m(\u001b[0m\u001b[0mkeyarr\u001b[0m\u001b[1;33m)\u001b[0m\u001b[1;33m\u001b[0m\u001b[1;33m\u001b[0m\u001b[0m\n\u001b[0;32m   1265\u001b[0m \u001b[1;33m\u001b[0m\u001b[0m\n\u001b[1;32m-> 1266\u001b[1;33m         \u001b[0mself\u001b[0m\u001b[1;33m.\u001b[0m\u001b[0m_validate_read_indexer\u001b[0m\u001b[1;33m(\u001b[0m\u001b[0mkeyarr\u001b[0m\u001b[1;33m,\u001b[0m \u001b[0mindexer\u001b[0m\u001b[1;33m,\u001b[0m \u001b[0maxis\u001b[0m\u001b[1;33m,\u001b[0m \u001b[0mraise_missing\u001b[0m\u001b[1;33m=\u001b[0m\u001b[0mraise_missing\u001b[0m\u001b[1;33m)\u001b[0m\u001b[1;33m\u001b[0m\u001b[1;33m\u001b[0m\u001b[0m\n\u001b[0m\u001b[0;32m   1267\u001b[0m         \u001b[1;32mreturn\u001b[0m \u001b[0mkeyarr\u001b[0m\u001b[1;33m,\u001b[0m \u001b[0mindexer\u001b[0m\u001b[1;33m\u001b[0m\u001b[1;33m\u001b[0m\u001b[0m\n\u001b[0;32m   1268\u001b[0m \u001b[1;33m\u001b[0m\u001b[0m\n",
      "\u001b[1;32mc:\\Users\\dania\\AppData\\Local\\Programs\\Python\\Python39\\lib\\site-packages\\pandas\\core\\indexing.py\u001b[0m in \u001b[0;36m_validate_read_indexer\u001b[1;34m(self, key, indexer, axis, raise_missing)\u001b[0m\n\u001b[0;32m   1306\u001b[0m             \u001b[1;32mif\u001b[0m \u001b[0mmissing\u001b[0m \u001b[1;33m==\u001b[0m \u001b[0mlen\u001b[0m\u001b[1;33m(\u001b[0m\u001b[0mindexer\u001b[0m\u001b[1;33m)\u001b[0m\u001b[1;33m:\u001b[0m\u001b[1;33m\u001b[0m\u001b[1;33m\u001b[0m\u001b[0m\n\u001b[0;32m   1307\u001b[0m                 \u001b[0maxis_name\u001b[0m \u001b[1;33m=\u001b[0m \u001b[0mself\u001b[0m\u001b[1;33m.\u001b[0m\u001b[0mobj\u001b[0m\u001b[1;33m.\u001b[0m\u001b[0m_get_axis_name\u001b[0m\u001b[1;33m(\u001b[0m\u001b[0maxis\u001b[0m\u001b[1;33m)\u001b[0m\u001b[1;33m\u001b[0m\u001b[1;33m\u001b[0m\u001b[0m\n\u001b[1;32m-> 1308\u001b[1;33m                 \u001b[1;32mraise\u001b[0m \u001b[0mKeyError\u001b[0m\u001b[1;33m(\u001b[0m\u001b[1;34mf\"None of [{key}] are in the [{axis_name}]\"\u001b[0m\u001b[1;33m)\u001b[0m\u001b[1;33m\u001b[0m\u001b[1;33m\u001b[0m\u001b[0m\n\u001b[0m\u001b[0;32m   1309\u001b[0m \u001b[1;33m\u001b[0m\u001b[0m\n\u001b[0;32m   1310\u001b[0m             \u001b[0max\u001b[0m \u001b[1;33m=\u001b[0m \u001b[0mself\u001b[0m\u001b[1;33m.\u001b[0m\u001b[0mobj\u001b[0m\u001b[1;33m.\u001b[0m\u001b[0m_get_axis\u001b[0m\u001b[1;33m(\u001b[0m\u001b[0maxis\u001b[0m\u001b[1;33m)\u001b[0m\u001b[1;33m\u001b[0m\u001b[1;33m\u001b[0m\u001b[0m\n",
      "\u001b[1;31mKeyError\u001b[0m: \"None of [Index(['Gender', 'Age', 'Driving_License', 'Previously_Insured', 'Vehicle_Age',\\n       'Vehicle_Damage', 'Annual_Premiun', 'Vintage', 'Response'],\\n      dtype='object')] are in the [columns]\""
     ]
    }
   ],
   "source": [
    "# evaluation\n",
    "\n"
   ]
  },
  {
   "cell_type": "code",
   "execution_count": null,
   "metadata": {},
   "outputs": [],
   "source": []
  }
 ],
 "metadata": {
  "kernelspec": {
   "display_name": "Python 3",
   "language": "python",
   "name": "python3"
  },
  "language_info": {
   "codemirror_mode": {
    "name": "ipython",
    "version": 3
   },
   "file_extension": ".py",
   "mimetype": "text/x-python",
   "name": "python",
   "nbconvert_exporter": "python",
   "pygments_lexer": "ipython3",
   "version": "3.9.4"
  }
 },
 "nbformat": 4,
 "nbformat_minor": 2
}
